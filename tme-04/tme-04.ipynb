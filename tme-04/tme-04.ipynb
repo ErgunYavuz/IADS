{
 "cells": [
  {
   "cell_type": "markdown",
   "metadata": {},
   "source": [
    "IA & Data science (LU3IN0226) -- 2020-2021\n",
    "--------\n",
    "*&copy; Equipe pédagogique: Vincent Guigue, Christophe Marsala, Edoardo Sarti, Olivier Schwander.*\n"
   ]
  },
  {
   "cell_type": "markdown",
   "metadata": {},
   "source": [
    "# TD-TME 4 : Introspection des modèles et descente de gradient"
   ]
  },
  {
   "cell_type": "markdown",
   "metadata": {},
   "source": [
    "<font size=\"+1\" color=\"RED\">**[Q]**</font> **Indiquer dans la boîte ci-dessous vos noms et prénoms :**"
   ]
  },
  {
   "cell_type": "markdown",
   "metadata": {},
   "source": [
    "*Double-cliquer ici et insérer les noms et prénoms de votre binôme*"
   ]
  },
  {
   "cell_type": "markdown",
   "metadata": {},
   "source": [
    "<font color=\"RED\" size=\"+1\">**[Q]**</font> **Renommer ce fichier ipython**\n",
    "\n",
    "Tout en haut de cette page, cliquer sur <tt>tme-04</tt> et rajouter à la suite de <tt>tme-04</tt> les noms des membres du binômes séparés par un tiret.\n",
    "\n",
    "Par exemple, pour le binôme Luke Skywalker et Han Solo, le nom de fichier devient `tme-04-Skywalker-Solo`\n",
    "\n",
    "Penser à sauvegarder fréquemment le fichier en cours de travail :\n",
    "- soit en cliquant sur l'icône \"disquette\"\n",
    "- soit par la combinaison de touches [Ctrl]-S"
   ]
  },
  {
   "cell_type": "code",
   "execution_count": 1,
   "metadata": {},
   "outputs": [],
   "source": [
    "# Importation de librairies standards:\n",
    "import random\n",
    "import numpy as np\n",
    "import pandas as pd\n",
    "import matplotlib.pyplot as plt\n",
    "from matplotlib import cm\n",
    "import pickle as pkl\n",
    "%matplotlib inline  "
   ]
  },
  {
   "cell_type": "markdown",
   "metadata": {},
   "source": [
    "## Création d'une librairie\n",
    "\n",
    "Afin de pouvoir réutiliser les classes et fonctions écrites précédemment dans les séances de TDTME, vous allez construire une librairie avec vos fonctions.\n",
    "\n",
    "Cette librairie, qui s'appellera IADS, contiendra toutes les classes et fonctions que vous allez développer lors de vos séances de TDTME. Elle sera construite donc séance après séance par l'ajout des nouvelles classes et fonctions que vous écrirez.\n",
    "\n",
    "<font color=\"RED\">Important:</font> dans un premier temps, vous devez écrire les classes et fonctions demandées dans le notebook de la séance de TDTME courante. A la séance suivante, ou une fois que tout fonctionne correctement, vous rajouterez les classes et fonctions écrites et testées dans vos fichiers de la librairie IADS pour pouvoir réutiliser vos classifieurs par la suite dans les séances suivantes.\n",
    "\n",
    "Récupérer et désarchiver l'archive iads.tgz de telle sorte que le répertoire `iads` soit un répertoire frère du répertoire `tme03`.\n",
    "\n",
    "Ainsi, vous devrez avoir l'arborescence suivante dans votre répertoire $HOME:\n",
    "\n",
    "    - LU3IN026/\n",
    "        - tme-01/\n",
    "            - tme-01.ipynb\n",
    "        - tme-02/\n",
    "            - tme-02.ipynb\n",
    "        - tme-03/\n",
    "            - tme-03.ipynb\n",
    "        - tme-04/\n",
    "            - tme-04.ipynb\n",
    "        - iads/\n",
    "            - Classifiers.py\n",
    "            - utils.py\n",
    "            - __init__.py\n",
    "          \n",
    "\n",
    "**Important** :\n",
    "- ce fichier tme-04.ipynb doit toujours rester dans le répertorie tme-04/\n",
    "- pour ouvrir les fichiers python (extension .py) qui se trouvent dans le répertoire iads/ il est nécessaire d'utiliser un éditeur de texte comme emacs, gedit, idle,...\n",
    "\n",
    "\n",
    "<font color=\"RED\" size=\"+1\">[Q]</font> **Ouvrir et compléter les fichiers Classifiers.py et utils.py**\n",
    "\n",
    "Pour compléter ces fichiers, reprendre le code écrit dans les TDTME précédents pour compléter toute les parties indiquées <tt>#TODO</tt>.\n",
    "- dans `utils.py`, il faut compléter les fonctions `plot2DSet`, `genere_dataset_uniform`, `genere_dataset_gaussian`, et `create_XOR`\n",
    "- dans `Classifiers.py`, il faut compléter le code des classifiers que vous avez déjà définis"
   ]
  },
  {
   "cell_type": "markdown",
   "metadata": {},
   "source": [
    "<font color=\"RED\" size=\"+1\">**[Q]**</font> **Mise à jour de la librairie `iads`**\n",
    "\n",
    "En premier lieu, vérifier que votre librairie `iads` est bien à jour : elle doit maintenant contenir toutes les fonctions et classes que mises au point et testées dans les séances précédentes. Une fois à jour, importer la librairie pour pouvoir l'utiliser dans ce notebook:"
   ]
  },
  {
   "cell_type": "code",
   "execution_count": 2,
   "metadata": {},
   "outputs": [],
   "source": [
    "# Importation de votre librairie iads:\n",
    "# La ligne suivante permet de préciser le chemin d'accès à la librairie iads\n",
    "import sys\n",
    "sys.path.append('../')   # iads doit être dans le répertoire père du répertoire courant !\n",
    "\n",
    "# Importation de la librairie iads\n",
    "import iads as iads\n",
    "\n",
    "# importation de Classifiers\n",
    "from iads import Classifiers as classif\n",
    "\n",
    "# importation de utils\n",
    "from iads import utils as ut"
   ]
  },
  {
   "cell_type": "code",
   "execution_count": 13,
   "metadata": {},
   "outputs": [
    {
     "name": "stdout",
     "output_type": "stream",
     "text": [
      "Taille du dataset généré : (40, 2) exemples\n"
     ]
    },
    {
     "data": {
      "image/png": "[encoded data removed]",
      "text/plain": [
       "<Figure size 432x288 with 1 Axes>"
      ]
     },
     "metadata": {
      "needs_background": "light"
     },
     "output_type": "display_data"
    }
   ],
   "source": [
    "# Une fois les importations faites, les fonctions de utils sont utilisables en mettant\n",
    "# ut. devant leur nom:\n",
    "\n",
    "# Exemple d'utilisation:\n",
    "np.random.seed(42)   # on prend 42 comme graine\n",
    "\n",
    "d_desc_gauss, d_lab_gauss = ut.genere_dataset_gaussian(np.array([1,1]),np.array([[1,0],[0,1]]),np.array([-0.5,-1]),np.array([[1,0],[0,1]]),20)\n",
    "\n",
    "print(\"Taille du dataset généré :\", np.shape(d_desc_gauss), \"exemples\")\n",
    "\n",
    "# Affichage :\n",
    "ut.plot2DSet(d_desc_gauss,d_lab_gauss)"
   ]
  },
  {
   "cell_type": "code",
   "execution_count": 14,
   "metadata": {},
   "outputs": [
    {
     "name": "stdout",
     "output_type": "stream",
     "text": [
      "Accuracy :  0.525\n"
     ]
    },
    {
     "data": {
      "image/png": "[encoded data removed]",
      "text/plain": [
       "<Figure size 432x288 with 1 Axes>"
      ]
     },
     "metadata": {
      "needs_background": "light"
     },
     "output_type": "display_data"
    }
   ],
   "source": [
    "# De même, les classes de Classifiers sont utilisables en mettant classif. devant leur nom:\n",
    "# Création d'un perceptron\n",
    "perceptron = classif.ClassifierPerceptron(2,0.01)\n",
    "\n",
    "data = d_desc_gauss\n",
    "label = d_lab_gauss\n",
    "\n",
    "perceptron.train(data, label)\n",
    "print(\"Accuracy : \", perceptron.accuracy(data,label))\n",
    "\n",
    "# Affichage de la frontière de séparation des classes\n",
    "ut.plot_frontiere(data,label,perceptron)\n",
    "ut.plot2DSet(data,label)"
   ]
  },
  {
   "cell_type": "markdown",
   "metadata": {},
   "source": [
    "Voilà, à partir de maintenant, vous pourrez donc ainsi réutiliser dans vos notebooks des classes et des fonctions écrites précédemment sans avoir à recopier tout le code implémenté !"
   ]
  },
  {
   "cell_type": "markdown",
   "metadata": {},
   "source": [
    "Une dernière chose, voici les commandes **TRES** utiles de la boite ci-dessous pour recharger automatiquement les librairies lorsqu'elles ont été modifiées lors de l'utilisation du notebook."
   ]
  },
  {
   "cell_type": "code",
   "execution_count": 15,
   "metadata": {},
   "outputs": [
    {
     "name": "stdout",
     "output_type": "stream",
     "text": [
      "The autoreload extension is already loaded. To reload it, use:\n",
      "  %reload_ext autoreload\n"
     ]
    }
   ],
   "source": [
    "# Les instructions suivantes sont TRES utile pour recharger automatiquement \n",
    "# le code modifié dans les fichiers externes\n",
    "%load_ext autoreload\n",
    "%autoreload 2"
   ]
  },
  {
   "cell_type": "markdown",
   "metadata": {},
   "source": [
    "## Fonctions d'affichages avancées\n",
    "\n",
    "Dans cette première partie, nous abordons deux choses: \n",
    "1. un complément sur les fonctions d'affichage\n",
    "1. un petit complément sur le perceptron\n",
    "\n",
    "Commençons donc par l'affichage. L'idée est de faire un mini tutoriel sur l'affichage 3D, les isocontours etc... Dans toutes ces situations, il faut d'abord créer une grille de points puis évaluer votre fonction sur tous les points de la grille. Les fonctions proposées se chargent de l'interpolation entre les points de la grille. \n",
    "\n",
    "Il faut ensuite penser à ajouter les points du jeu de données et à sauvegarder le tout.\n",
    "\n",
    "Ces nouvelles fonctions vont vous permettre de bien comprendre ce qui se passe en terme de décision dans l'espace de représentation des points."
   ]
  },
  {
   "cell_type": "code",
   "execution_count": 55,
   "metadata": {},
   "outputs": [],
   "source": [
    "def plot_frontiere_V3(desc_set, label_set, w, kernel, step=30, forme=1, fname=\"out/tmp.pdf\"):\n",
    "    \"\"\" desc_set * label_set * array * function * int * int * str -> NoneType\n",
    "        Note: le classifieur linéaire est donné sous la forme d'un vecteur de poids pour plus de flexibilité\n",
    "    \"\"\"\n",
    "    # ETAPE 1: construction d'une grille de points sur tout l'espace défini par les points du jeu de données\n",
    "    mmax=desc_set.max(0)\n",
    "    mmin=desc_set.min(0)\n",
    "    x1grid,x2grid=np.meshgrid(np.linspace(mmin[0],mmax[0],step),np.linspace(mmin[1],mmax[1],step))\n",
    "    grid=np.hstack((x1grid.reshape(x1grid.size,1),x2grid.reshape(x2grid.size,1)))\n",
    "    #\n",
    "    #Si vous avez du mal à saisir le concept de la grille, décommentez ci-dessous\n",
    "#     plt.figure()\n",
    "#     plt.scatter(grid[:,0],grid[:,1])\n",
    "#     if True:\n",
    "#        return\n",
    "    #\n",
    "    # ETAPE 2: calcul de la prediction pour chaque point de la grille\n",
    "    res=np.array([kernel(grid[i,:])@w for i in range(len(grid))])\n",
    "    # pour les affichages avancés, chaque dimension est présentée sous la forme d'une matrice\n",
    "    res=res.reshape(x1grid.shape) \n",
    "    #\n",
    "    # ETAPE 3: le tracé\n",
    "    #\n",
    "    # CHOIX A TESTER en décommentant:\n",
    "    # 1. lignes de contours + niveaux\n",
    "    if forme <= 2 :\n",
    "        fig, ax = plt.subplots() # pour 1 et 2\n",
    "        ax.set_xlabel('X_1')\n",
    "        ax.set_ylabel('X_2')\n",
    "    if forme == 1:\n",
    "        CS = ax.contour(x1grid,x2grid,res)\n",
    "        ax.clabel(CS, inline=1, fontsize=10)\n",
    "    #\n",
    "    # 2. lignes de contour 0 = frontière \n",
    "    if forme == 2:\n",
    "        CS = ax.contour(x1grid,x2grid,res, levels=[0], colors='k')\n",
    "    #\n",
    "    # 3. fonction de décision 3D\n",
    "    if forme == 3 or forme == 4:\n",
    "        fig = plt.gcf()\n",
    "        ax = fig.gca(projection='3d') # pour 3 et 4\n",
    "        ax.set_xlabel('X_1')\n",
    "        ax.set_ylabel('X_2')\n",
    "        ax.set_zlabel('f(X)')\n",
    "    # \n",
    "    if forme == 3:\n",
    "        surf = ax.plot_surface(x1grid,x2grid,res, cmap=cm.coolwarm)\n",
    "    #\n",
    "    # 4. fonction de décision 3D contour grid + transparence\n",
    "    if forme == 4:\n",
    "        norm = plt.Normalize(res.min(), res.max())\n",
    "        colors = cm.coolwarm(norm(res))\n",
    "        rcount, ccount, _ = colors.shape\n",
    "        surf = ax.plot_surface(x1grid,x2grid,res, rcount=rcount, ccount=ccount, facecolors=colors, shade=False)\n",
    "        surf.set_facecolor((0,0,0,0))\n",
    "    #\n",
    "    # ETAPE 4: ajout des points\n",
    "    negatifs = desc_set[label_set == -1]     # Ensemble des exemples de classe -1\n",
    "    positifs = desc_set[label_set == +1]     # +1 \n",
    "    # Affichage de l'ensemble des exemples en 2D:\n",
    "    if forme <= 2:\n",
    "        ax.scatter(negatifs[:,0],negatifs[:,1], marker='o', c='b') # 'o' pour la classe -1\n",
    "        ax.scatter(positifs[:,0],positifs[:,1], marker='x', c='r') # 'x' pour la classe +1\n",
    "    else:\n",
    "        # on peut ajouter une 3ème dimension si on veut pour 3 et 4\n",
    "        ax.scatter(negatifs[:,0],negatifs[:,1], -1, marker='o', c='b') # 'o' pour la classe -1\n",
    "        ax.scatter(positifs[:,0],positifs[:,1], 1,  marker='x', c='r') # 'x' pour la classe +1\n",
    "    #\n",
    "    # ETAPE 5 en 3D: régler le point de vue caméra:\n",
    "    if forme == 3 or forme == 4:\n",
    "        ax.view_init(20, 70) # a régler en fonction des données\n",
    "    #\n",
    "    # ETAPE 6: sauvegarde\n",
    "    if fname != None:\n",
    "        # avec les options pour réduires les marges et mettre le fond transprent\n",
    "        plt.savefig(fname,bbox_inches='tight', transparent=True,pad_inches=0)"
   ]
  },
  {
   "cell_type": "markdown",
   "metadata": {},
   "source": [
    "La boite suivante permet de tester la fonction `plot_frontiere_V3`.\n",
    "\n",
    "**Important**: avant de l'exécuter, créer le répertoire `out` dans le répertoire courant (celui qui contient ce notebook). Ce répertoire `out` est utilisé pour sauvegarder, au format PDF, les figures obtenues."
   ]
  },
  {
   "cell_type": "code",
   "execution_count": 56,
   "metadata": {},
   "outputs": [
    {
     "data": {
      "image/png": "[encoded data removed]",
      "text/plain": [
       "<Figure size 432x288 with 1 Axes>"
      ]
     },
     "metadata": {
      "needs_background": "light"
     },
     "output_type": "display_data"
    }
   ],
   "source": [
    "np.random.seed(42)   # on prend 42 comme graine\n",
    "\n",
    "# test de la fonction ci-dessus\n",
    "# NOTE: le test est générique... Mais il est améliorable en déléguant la génération de données\n",
    "# aux fonctions que vous avez mise en place dans utils\n",
    "\n",
    "# Génération rapide d'un jeu de données 2D:\n",
    "N = 100\n",
    "sig1  = np.array([[1, 0],[0,1]])\n",
    "sig2  = np.array([[1, 0],[0,1]])\n",
    "mu1   = np.array([-1.5, -2])\n",
    "mu2   = np.array([1, 1.5])\n",
    "sig_b = 3\n",
    "Y = np.array([1]*N + [-1]*N)\n",
    "X = np.random.randn(2*N,2)\n",
    "X[Y==1]  = X[Y==1]  @ sig1 + mu1\n",
    "X[Y==-1] = X[Y==-1] @ sig2 + mu2\n",
    "\n",
    "w = np.array([1, 1])\n",
    "\n",
    "\n",
    "def k_id(x): # fonction identité (juste pour être compatible avec les kernels ensuite)\n",
    "    return x\n",
    "\n",
    "f = 0 # A tester : 0, 1, 2, 3, 4 \n",
    "plot_frontiere_V3(X, Y, w, k_id, step=10, forme = f, fname=\"out/test\"+str(f)+\".pdf\")\n",
    "# REMARQUE: l'extention peut être changée en \".png\" pour générer un fichier image en PNG."
   ]
  },
  {
   "cell_type": "markdown",
   "metadata": {},
   "source": [
    "Aller dans le répertoire `out` avec un navigateur de fichier et ouvrir le fichier `test0.pdf` obtenu."
   ]
  },
  {
   "cell_type": "markdown",
   "metadata": {},
   "source": [
    "## Compléments sur le perceptron\n",
    "\n",
    "Afin de compléter notre classe `ClassifierPerceptron`, nous allons ajouter:\n",
    "- un biais qui facilite la convergence du modèle: le critère de mauvaise classification devient\n",
    "$$ f(\\mathbf x_i) y_i < 1 $$\n",
    "On veut que $f(\\mathbf x_i)$ et $y_i$ soient du même signe ET que $f(\\mathbf x_i)$ soit suffisamment grand (en valeur absolue)\n",
    "- un attribut booléen ```history``` (initialisé à False par défaut) qui, quand il est à ```True``` va déclencher la sauvegarde de toutes les mises à jour des paramètres ```w```\n",
    "- un attribut ```allw``` (par exemple, de type liste) pour stocker toutes les valeurs successives de ```w```. Cet attribut est donc à mettre jour lors de l'entraînement du perceptron, après chaque mise à jour des poids.\n",
    "\n",
    "Une fois la modification de la classe `ClassifierPerceptron` effectuée, le code suivant doit être fonctionnel et vous allez obtenir quelque chose de la forme:\n",
    "<img src=\"./ressources/cvg.png\" width=400px>\n",
    "\n",
    "**Note:** de manière générale, pour surcharger un objet/une fonction qui marche bien avec de nouvelles fonctionnalités, il faut impérativement passer par des arguments avec une valeur par défaut pour préserver la rétro-compatibilité.\n",
    "\n",
    "Par exemple:\n",
    "\n",
    "        def __init__(self, input_dimension, learning_rate, history=False):\n",
    "        ...\n",
    "\n",
    "permet de rajouter un nouvel argument (`history`) dont la valeur par défaut est ```False```, ainsi, si on ne donne que 2 paramètres lors de l'appel, l'argument `history` sera quand même défini et mis à ```False```.\n",
    "\n"
   ]
  },
  {
   "cell_type": "code",
   "execution_count": 35,
   "metadata": {},
   "outputs": [
    {
     "data": {
      "image/png": "[encoded data removed]",
      "text/plain": [
       "<Figure size 432x288 with 1 Axes>"
      ]
     },
     "metadata": {
      "needs_background": "light"
     },
     "output_type": "display_data"
    }
   ],
   "source": [
    "np.random.seed(42)   # on prend 42 comme graine\n",
    "\n",
    "# Paramètres pour le perceptron:\n",
    "dim = 2\n",
    "eps = 5e-3\n",
    "\n",
    "# Création et entraînement du perceptron sur les données générées\n",
    "perc = classif.ClassifierPerceptron(dim, eps, history=True)\n",
    "perc.train(X, Y)\n",
    "\n",
    "# récupération de l'évolution des w au cours de l'apprentissage \n",
    "# perceptron initialisé à 0\n",
    "allw = np.array(perc.allw) # si allw est sous forme de liste\n",
    "\n",
    "# Tracé de l'évolution des w:\n",
    "plt.figure()\n",
    "plt.plot(allw[:,0]) # première coordonnée du vecteur poids: w1\n",
    "plt.plot(allw[:,1]) # deuxième coordonnée du vecteur poids: w2\n",
    "plt.title('Evolution des w au cours des itérations du perceptron')\n",
    "plt.xlabel('iterations')\n",
    "plt.legend(['w1','w2'])\n",
    "\n",
    "# Sauvegarde de la figure obtenue:\n",
    "plt.savefig('out/cvg.png')"
   ]
  },
  {
   "cell_type": "markdown",
   "metadata": {},
   "source": [
    "## Animation de l'évolution du perceptron\n",
    "\n",
    "En combinant la récupération de tous les $w$ et les affichages précédents, on peut représenter l'évolution de de la frontière de décision au cours des itérations...\n",
    "\n",
    "Attention, si le problème est trop simple, ça va converger une 1 itération et il n'y aura plus rien à voir !!"
   ]
  },
  {
   "cell_type": "code",
   "execution_count": 59,
   "metadata": {},
   "outputs": [
    {
     "ename": "IndexError",
     "evalue": "index 4 is out of bounds for axis 0 with size 4",
     "output_type": "error",
     "traceback": [
      "\u001b[1;31m---------------------------------------------------------------------------\u001b[0m",
      "\u001b[1;31mIndexError\u001b[0m                                Traceback (most recent call last)",
      "\u001b[1;32m<ipython-input-59-15b65b270df1>\u001b[0m in \u001b[0;36m<module>\u001b[1;34m\u001b[0m\n\u001b[0;32m      2\u001b[0m \u001b[1;31m# on génère les images associées à l'évolution de l'algo\u001b[0m\u001b[1;33m\u001b[0m\u001b[1;33m\u001b[0m\u001b[1;33m\u001b[0m\u001b[0m\n\u001b[0;32m      3\u001b[0m \u001b[1;32mfor\u001b[0m \u001b[0mi\u001b[0m \u001b[1;32min\u001b[0m \u001b[0mrange\u001b[0m\u001b[1;33m(\u001b[0m\u001b[1;36m20\u001b[0m\u001b[1;33m)\u001b[0m\u001b[1;33m:\u001b[0m \u001b[1;31m# borne arbitraire (ca converge très vite sur les cas simples)\u001b[0m\u001b[1;33m\u001b[0m\u001b[1;33m\u001b[0m\u001b[0m\n\u001b[1;32m----> 4\u001b[1;33m     \u001b[0mplot_frontiere_V3\u001b[0m\u001b[1;33m(\u001b[0m\u001b[0mX\u001b[0m\u001b[1;33m,\u001b[0m \u001b[0mY\u001b[0m\u001b[1;33m,\u001b[0m \u001b[0mallw\u001b[0m\u001b[1;33m[\u001b[0m\u001b[0mi\u001b[0m\u001b[1;33m]\u001b[0m\u001b[1;33m,\u001b[0m \u001b[0mk_id\u001b[0m\u001b[1;33m,\u001b[0m \u001b[0mstep\u001b[0m\u001b[1;33m=\u001b[0m\u001b[1;36m10\u001b[0m\u001b[1;33m,\u001b[0m \u001b[0mforme\u001b[0m \u001b[1;33m=\u001b[0m \u001b[1;36m4\u001b[0m\u001b[1;33m,\u001b[0m \u001b[0mfname\u001b[0m\u001b[1;33m=\u001b[0m\u001b[1;34m\"out/evol_percep_{:02}.pdf\"\u001b[0m\u001b[1;33m.\u001b[0m\u001b[0mformat\u001b[0m\u001b[1;33m(\u001b[0m\u001b[0mi\u001b[0m\u001b[1;33m)\u001b[0m\u001b[1;33m)\u001b[0m\u001b[1;33m\u001b[0m\u001b[1;33m\u001b[0m\u001b[0m\n\u001b[0m\u001b[0;32m      5\u001b[0m     \u001b[0mplt\u001b[0m\u001b[1;33m.\u001b[0m\u001b[0mclf\u001b[0m\u001b[1;33m(\u001b[0m\u001b[1;33m)\u001b[0m \u001b[1;31m# pour ne pas que les plot se superposent\u001b[0m\u001b[1;33m\u001b[0m\u001b[1;33m\u001b[0m\u001b[0m\n",
      "\u001b[1;31mIndexError\u001b[0m: index 4 is out of bounds for axis 0 with size 4"
     ]
    },
    {
     "data": {
      "text/plain": [
       "<Figure size 432x288 with 0 Axes>"
      ]
     },
     "metadata": {},
     "output_type": "display_data"
    }
   ],
   "source": [
    "# tout le code est fourni, ce n'est que de l'affichage\n",
    "# on génère les images associées à l'évolution de l'algo\n",
    "for i in range(20): # borne arbitraire (ca converge très vite sur les cas simples)\n",
    "    plot_frontiere_V3(X, Y, allw[i], k_id, step=10, forme = 4, fname=\"out/evol_percep_{:02}.pdf\".format(i))\n",
    "    plt.clf() # pour ne pas que les plot se superposent"
   ]
  },
  {
   "cell_type": "code",
   "execution_count": 34,
   "metadata": {},
   "outputs": [
    {
     "name": "stderr",
     "output_type": "stream",
     "text": [
      "ParamŠtre non valide - 50\n"
     ]
    }
   ],
   "source": [
    "# si vous avez convert/imagemagick installé sur votre ordinateur: => Faire un gif animé :)\n",
    "# rapppel: avec le !, vous invoquez des commandes dans la console\n",
    "!convert -delay 50 -antialias -dispose previous out/evol_percep_* out/anim_pcp.gif"
   ]
  },
  {
   "cell_type": "markdown",
   "metadata": {},
   "source": [
    "Vous pouvez alors obtenir quelquechose comme:\n",
    "<img src=\"ressources/anim_pcp.gif\">"
   ]
  },
  {
   "cell_type": "markdown",
   "metadata": {},
   "source": [
    "**ATTENTION**: la commande précédente génére beaucoup de fichiers dans votre répertoire `out`, pensez à les supprimer une fois que vous n'en avez plus besoin pour ne pas encombrer votre espace disque..."
   ]
  },
  {
   "cell_type": "markdown",
   "metadata": {},
   "source": [
    "# Lien avec l'optimisation des fonctions de coût\n",
    "\n",
    "Après ces rappels de code, nous entrons maintenant dans le vif du sujet !\n",
    "\n",
    "Nous avons vu en cours que l'évolution des poids du perceptron correspond en réalité à l'optimisation de la fonction coût:\n",
    "\n",
    "$$ \\mathcal C = \\sum_{i=1}^N (1- f(\\mathbf x_i) y_i)_+, \\qquad \\mbox{avec: } \n",
    "(\\alpha)_+ = \\left\\{\\begin{array}{ll}\n",
    "\\alpha & \\mbox{ si } \\alpha >0\\\\\n",
    "0 & \\mbox{ sinon }\n",
    "\\end{array}\\right.$$\n",
    "\n",
    "Nous utilisons ici une version *stabilisée* du perceptron où les points ne sont bien classé que lorsque $f(\\mathbf x_i) y_i>1$\n",
    "\n",
    "Le perceptron est une simple descente de gradient.\n",
    "\n",
    "\n",
    "Les questions que l'on se pose sont double:\n",
    "1. Quelle est l'évolution de $\\mathcal C$ au cours des itérations\n",
    "1. Quel chemin prennent les $w$ dans le cas 2D?"
   ]
  },
  {
   "cell_type": "markdown",
   "metadata": {},
   "source": [
    "<font color=\"RED\" size=\"+1\">[Q]</font> Donner les instructions qui permettent de tracer l'évolution du coût au cours des itérations d'apprentissage;"
   ]
  },
  {
   "cell_type": "code",
   "execution_count": null,
   "metadata": {},
   "outputs": [],
   "source": [
    "# calcul de C pour les différentes valeurs de w puis affichage de la courbe correspondante\n",
    "\n"
   ]
  },
  {
   "cell_type": "markdown",
   "metadata": {},
   "source": [
    "Vous devriez obtenir la courbe suivante:\n",
    "\n",
    "<img src=\"ressources/cost.png\">"
   ]
  },
  {
   "cell_type": "code",
   "execution_count": null,
   "metadata": {},
   "outputs": [],
   "source": [
    "# Evolution des poids dans l'espace des paramètres\n",
    "# le code est presque entièrement donné... Sauf une ligne critique\n",
    "# Il faut absolument comprendre la signification du code et de l'image produite\n",
    "\n",
    "# 1. Construction d'une grille de 'toutes' les valeurs possibles de w dans les bornes de allw\n",
    "mmax=allw.max(0)\n",
    "mmin=allw.min(0)\n",
    "x1grid,x2grid=np.meshgrid(np.linspace(mmin[0],mmax[0],30),np.linspace(mmin[1],mmax[1],30))\n",
    "grid=np.hstack((x1grid.reshape(x1grid.size,1),x2grid.reshape(x2grid.size,1)))\n",
    "\n",
    "# 2. Evaluation du cout pour toutes ces solutions potentielles\n",
    "\n",
    "##########\n",
    "# LIGNE A COMPLETER:\n",
    "# construction de res = calcul du cout du perceptron pour tous les couples\n",
    "# (w1,w2) définis dans grid\n",
    "\n",
    "# res = # compléter\n",
    "\n"
   ]
  },
  {
   "cell_type": "markdown",
   "metadata": {},
   "source": [
    "Vous devriez obtenir la courbe suivante:\n",
    "    <img src=\"ressources/espace_param.png\">\n",
    "    \n",
    "La solution initiale $w=[0,0]$ correspond à un coût élevé. L'algorithme du perceptron fait évoluer les poids du modèle pou aller dans une zone de l'espace où le cout est moindre.\n",
    "\n",
    "**ATTENTION** à ne pas confondre l'espace de représentation des points (où les axes sont $X_1,X_2$) et l'espace de représentation des paramètres (ici, où chaque point correspond à un classifieur associé à un niveau de coût = le fait de faire plus ou moins d'erreurs)"
   ]
  },
  {
   "cell_type": "markdown",
   "metadata": {},
   "source": [
    "## Interaction entre l'espace des paramètres et l'espace des points\n",
    "\n",
    "Afin de bien clarifier les choses et de jouer un peu avec l'outil informatique, je vous propose une mettre en place  l'expérience suivante:\n",
    "\n",
    "Un affichage de l'espace des paramètres (comme ci-dessus) qui deviennent cliquable afin que l'on visualise un classifieur en particulier dans l'espace des points cette fois.\n",
    "\n",
    "1. Nous allons utiliser ```bokeh``` qui est la librairie qui marche le mieux pour ce genre d'opération\n",
    "1. Nous allons reprendre le plot ci-dessus et récupérer les coordonnées des clics. \n",
    "    1. un clic = des coordonnées $w_1,w_2$ = un classifieur\n",
    "1. Nous allons alors tracer le classifieur associé.\n",
    "\n",
    "Le code est un peu moche... Mais tout est donné.\n",
    "Votre travail est un travail de reflexion sur l'interprétation des figures proposées."
   ]
  },
  {
   "cell_type": "code",
   "execution_count": null,
   "metadata": {},
   "outputs": [],
   "source": [
    "# import pour bokeh\n",
    "# a installer si besoin:\n",
    "# !pip install bokeh\n",
    "\n",
    "import yaml\n",
    "\n",
    "from bokeh.layouts import *\n",
    "from bokeh.models import ColumnDataSource, Slider\n",
    "from bokeh.plotting import figure\n",
    "from bokeh.themes import Theme\n",
    "from bokeh.io import show, output_notebook\n",
    "from bokeh.events import Tap,DoubleTap\n",
    "\n",
    "output_notebook()"
   ]
  },
  {
   "cell_type": "code",
   "execution_count": null,
   "metadata": {},
   "outputs": [],
   "source": [
    "def get_contour_data(X, Y, Z, levels=None):\n",
    "    if levels == None:\n",
    "        cs = plt.contour(X, Y, Z) # matplotlib => bokeh\n",
    "    else:\n",
    "        cs = plt.contour(X, Y, Z, levels) # matplotlib => bokeh\n",
    "    xs = []\n",
    "    ys = []\n",
    "    xt = []\n",
    "    yt = []\n",
    "    col = []\n",
    "    text = []\n",
    "    isolevelid = 0\n",
    "    for isolevel in cs.collections:\n",
    "        isocol = isolevel.get_color()[0]\n",
    "        thecol = 3 * [None]\n",
    "        theiso = str(cs.get_array()[isolevelid])\n",
    "        isolevelid += 1\n",
    "        for i in range(3):\n",
    "            thecol[i] = int(255 * isocol[i])\n",
    "        thecol = '#%02x%02x%02x' % (thecol[0], thecol[1], thecol[2])\n",
    "\n",
    "        for path in isolevel.get_paths():\n",
    "            v = path.vertices\n",
    "            x = v[:, 0]\n",
    "            y = v[:, 1]\n",
    "            xs.append(x.tolist())\n",
    "            ys.append(y.tolist())\n",
    "            xt.append(x[len(x) // 2])\n",
    "            yt.append(y[len(y) // 2])\n",
    "            text.append(theiso)\n",
    "            col.append(thecol)\n",
    "\n",
    "    data = dict({'xs': xs, 'ys': ys, 'line_color': col,'xt':xt,'yt':yt,'text':text})\n",
    "    return data\n"
   ]
  },
  {
   "cell_type": "code",
   "execution_count": null,
   "metadata": {},
   "outputs": [],
   "source": [
    "# il faut les variables globales suivantes:\n",
    "# - allw\n",
    "# - current_w : classifieur courant\n",
    "# - X, Y\n",
    "\n",
    "current_w = allw[0]\n",
    "\n",
    "def bkapp(doc):\n",
    "    #######\n",
    "    # calculs coté paramètres\n",
    "    mmax=allw.max(0)\n",
    "    mmin=allw.min(0)\n",
    "    x1grid,x2grid=np.meshgrid(np.linspace(mmin[0],mmax[0],30),np.linspace(mmin[1],mmax[1],30))\n",
    "    grid=np.hstack((x1grid.reshape(x1grid.size,1),x2grid.reshape(x2grid.size,1)))\n",
    "    res = np.array([np.maximum(1 - X@w * Y, 0).sum() for w in grid ])\n",
    "    res=res.reshape(x1grid.shape) \n",
    "    ######\n",
    "    # calculs coté modèle\n",
    "    mmax=X.max(0)\n",
    "    mmin=X.min(0)\n",
    "    x3grid,x4grid=np.meshgrid(np.linspace(mmin[0],mmax[0],30),np.linspace(mmin[1],mmax[1],30))\n",
    "    grid=np.hstack((x3grid.reshape(x3grid.size,1),x4grid.reshape(x4grid.size,1)))\n",
    "    f = (grid @ current_w).reshape(x3grid.shape)\n",
    "    \n",
    "    #####\n",
    "    # Figure paramètres\n",
    "    param = figure(x_axis_label='w_1', #y_range=(0, 25),\n",
    "                  y_axis_label='w_2',\n",
    "                  title=\"Espace des paramètres\")\n",
    "    source = ColumnDataSource(data=get_contour_data(x1grid,x2grid,res))\n",
    "    param.multi_line(xs='xs', ys='ys', line_color='line_color', source=source)\n",
    "    param.text(x='xt',y='yt',text='text',source=source,text_baseline='middle',text_align='center')\n",
    "    \n",
    "    param.scatter(allw[:,0], allw[:,1], marker='o')\n",
    "    param.scatter(current_w[0], current_w[1], marker='*',size=15)\n",
    "    \n",
    "    \n",
    "    #####\n",
    "    # Figure modèle    \n",
    "    plot = figure(x_axis_label='X_1', #y_range=(0, 25),\n",
    "                  y_axis_label='X_2',\n",
    "                  title=\"Espace des points\")\n",
    "    plot.scatter(X[:,0], X[:,1], marker='o', size=10, color=np.where(Y==1,'#ff0000','#0000ff'))\n",
    "    source2 = ColumnDataSource(data=get_contour_data(x3grid,x4grid,f,levels=[0]))\n",
    "    plot.multi_line(xs='xs', ys='ys', line_color='line_color', source=source2)\n",
    "      \n",
    "    #####\n",
    "    # Callback\n",
    "    # interaction avec les données = modification d'un dataframe panda\n",
    "    def callback(event):\n",
    "        current_w = np.array([event.x,event.y])\n",
    "        f = (grid @ current_w).reshape(x3grid.shape)\n",
    "        source2.data = get_contour_data(x3grid,x4grid,f,levels=[0]) # df\n",
    "        print(current_w)\n",
    "    param.on_event(Tap, callback)\n",
    "    \n",
    "    #####\n",
    "    # Mise en forme\n",
    "    doc.add_root(row(param, plot))\n",
    "\n",
    "    doc.theme = Theme(json=yaml.load(\"\"\"\n",
    "        attrs:\n",
    "            Figure:\n",
    "                background_fill_color: \"#DDDDDD\"\n",
    "                outline_line_color: white\n",
    "                toolbar_location: above\n",
    "                height: 400\n",
    "                width: 400\n",
    "            Grid:\n",
    "                grid_line_dash: [6, 4]\n",
    "                grid_line_color: white\n",
    "    \"\"\", Loader=yaml.FullLoader))"
   ]
  },
  {
   "cell_type": "code",
   "execution_count": null,
   "metadata": {},
   "outputs": [],
   "source": [
    "show(bkapp)"
   ]
  },
  {
   "cell_type": "markdown",
   "metadata": {},
   "source": [
    "# ADALINE: la minimisation des moindres carrés\n",
    "\n",
    "La fonction la plus connue est la fonction des moindres carrés:\n",
    "$$ \\mathcal C = \\sum_{i=1}^N (f(\\mathbf x_i) - y_i)^2$$\n",
    "Il faut que $f(\\mathbf x_i)$ soit le plus proche possible de $y_i$ pour faire baisser ce coût.\n",
    "\n",
    "Dans le cas où $f$ est une fonction linéaire, on peut résoudre le problème de minimisation de la fonction de coût par descente de gradient stochastique, un peu comme pour le perceptron:\n",
    "\n",
    "**Algorithme ADALINE:**\n",
    "1. Initialisation de $\\mathbf w$ aléatoire\n",
    "1. Boucle \n",
    "    1. Tirage d'un point i\n",
    "    1. Calcul du gradient $\\nabla_{\\mathbf w} \\mathcal C$ (cf ci-dessous)\n",
    "    1. $\\mathbf w \\leftarrow \\mathbf w - \\epsilon \\nabla_{\\mathbf w} \\mathcal C $\n",
    "    1. Test de convergence + sortie\n",
    "    \n",
    "Avec:\n",
    "$$\\nabla_{\\mathbf w} \\mathcal C = \\mathbf x_i^T (\\mathbf x_i \\mathbf w - y_i) \\in \\mathbb R^d $$\n",
    "\n",
    "1. Coder l'algorithme ADALINE et vérifier qu'il fonctionne bien sur des données jouet. Pour vous aider, nous vous donnons le squelette de la classe à créer dans la boîte suivante. Veuillez noter l'utilisation de `classif.Classifier` pour définir la classe mère de ce nouveau classifier.\n",
    "1. Une fois que le code est fonctionnel, rajouter cette nouvelle classe dans ```Classifiers.py```. **Attention**: dans le fichier ```Classifiers.py```, il ne faudra plus utiliser `classif.` devant le nom de Classifier mais écrire:\n",
    "\n",
    "        class ClassifierADALINE(Classifier):\n",
    "        ...\n",
    "\n",
    "1. Vérifier que vous êtes capable de tracer l'évolution des poids du classifeur comme pour le perceptron."
   ]
  },
  {
   "cell_type": "code",
   "execution_count": null,
   "metadata": {},
   "outputs": [],
   "source": [
    "# code de la classe pour le classifieur ADALINE\n",
    "\n",
    "class ClassifierADALINE(classif.Classifier):\n",
    "    \"\"\" Perceptron de ADALINE\n",
    "    \"\"\"\n",
    "    #TODO: Classe à Compléter\n",
    "    def __init__(self, input_dimension, learning_rate, history=False, niter_max=1000):\n",
    "        \"\"\" Constructeur de Classifier\n",
    "            Argument:\n",
    "                - input_dimension (int) : dimension de la description des exemples\n",
    "                - learning_rate : epsilon\n",
    "                - history : stockage des poids w en cours d'apprentissage\n",
    "                - niter_max : borne sur les iterations\n",
    "            Hypothèse : input_dimension > 0\n",
    "        \"\"\"\n",
    "        raise NotImplementedError(\"Please Implement this method\")\n",
    "        \n",
    "    def train(self, desc_set, label_set):\n",
    "        \"\"\" Permet d'entrainer le modele sur l'ensemble donné\n",
    "            réalise une itération sur l'ensemble des données prises aléatoirement\n",
    "            desc_set: ndarray avec des descriptions\n",
    "            label_set: ndarray avec les labels correspondants\n",
    "            Hypothèse: desc_set et label_set ont le même nombre de lignes\n",
    "        \"\"\"        \n",
    "        raise NotImplementedError(\"Please Implement this method\")\n",
    "    \n",
    "    def score(self,x):\n",
    "        \"\"\" rend le score de prédiction sur x (valeur réelle)\n",
    "            x: une description\n",
    "        \"\"\"\n",
    "        raise NotImplementedError(\"Please Implement this method\")\n",
    "    \n",
    "    def predict(self, x):\n",
    "        \"\"\" rend la prediction sur x (soit -1 ou soit +1)\n",
    "            x: une description\n",
    "        \"\"\"\n",
    "        raise NotImplementedError(\"Please Implement this method\")"
   ]
  },
  {
   "cell_type": "markdown",
   "metadata": {},
   "source": [
    "**Remarque:** à partir de maintenant, nous ne vous donnerons plus le squelette du code pour écrire la classe correspondant à un classifieur."
   ]
  },
  {
   "cell_type": "code",
   "execution_count": null,
   "metadata": {},
   "outputs": [],
   "source": [
    "# Test sur des données jouets\n",
    "adaline = ClassifierADALINE(2, 1e-2, history=True) \n",
    "# Rappel: une fois dans Classifier.py, pensez à préfixer par cl.\n",
    "\n",
    "# n'hésitez pas à jouer sur les paramètres\n",
    "# vous pouvez supprimer temporairement l'argument history s'il n'est pas implémenté dans votre version.\n",
    "# il faudra cependant l'ajouter avant de passer à la boite suivante\n",
    "\n",
    "adaline.train(X, Y)\n",
    "\n",
    "plot_frontiere_V3(X,Y, adaline.w, k_id, step=30, forme=1, fname=None)"
   ]
  },
  {
   "cell_type": "code",
   "execution_count": null,
   "metadata": {},
   "outputs": [],
   "source": [
    "# Visualisation de la descente de gradient\n",
    "\n",
    "allw = np.array(adaline.allw)\n",
    "\n",
    "# construction d'une grille de 'toutes' les valeurs possibles de w\n",
    "mmax=allw.max(0)\n",
    "mmin=allw.min(0)\n",
    "x1grid,x2grid=np.meshgrid(np.linspace(mmin[0],mmax[0],30),np.linspace(mmin[1],mmax[1],30))\n",
    "grid=np.hstack((x1grid.reshape(x1grid.size,1),x2grid.reshape(x2grid.size,1)))\n",
    "\n",
    "# evaluation du cout pour toutes ces solutions potentielles\n",
    "\n",
    "##########\n",
    "# LIGNE A COMPLETER:\n",
    "# construction de res = calcul du cout du perceptron pour tous les couples\n",
    "# (w1,w2) définis dans grid\n",
    "\n",
    "# CORRECTION\n",
    "res = np.array([((X@w - Y)**2).sum() for w in grid ])\n",
    "\n",
    "# remise en forme\n",
    "res=res.reshape(x1grid.shape) \n",
    "\n",
    "fig, ax = plt.subplots() # pour 1 et 2\n",
    "ax.set_xlabel('$w_1$')\n",
    "ax.set_ylabel('$w_2$')\n",
    "CS = ax.contour(x1grid,x2grid,res)\n",
    "ax.clabel(CS, inline=1, fontsize=10)\n",
    "\n",
    "# ajoute de la couleur: jaune = plus grande itération\n",
    "ax.scatter(allw[:,0], allw[:,1], c=np.arange(len(allw)))\n",
    "\n",
    "plt.savefig(\"out/espace_param_MC.png\")"
   ]
  },
  {
   "cell_type": "markdown",
   "metadata": {},
   "source": [
    "# ADALINE analytique\n",
    "\n",
    "Contrairement au perceptron, il est possible de calculer une solution analytique pour ADALINE. En effet, on peut montrer que l'annulation du gradient correspond au problème suivant:\n",
    "\n",
    "$$ \\underbrace{X^T X}_{\\in \\mathbb R^{d \\times d}} \\ \\underbrace{\\mathbf w}_{\\in \\mathbb R^{d}} = \\underbrace{X^T Y}_{\\in \\mathbb R^{d}}$$\n",
    "\n",
    "La fonction ```np.linalg.solve``` permet justement de résoudre un tel système d'équations linéaires.\n",
    "\n",
    "1. Utiliser la documentation pour appliquer ```np.linalg.solve``` sur le problème qui nous intéresse et vérifier que la solution est bien intéressante.\n",
    "1. Ecrire la classe `ClassifierADALINE2` qui implémente le classifieur ADALINE utilisant cette approche pour calculer la solution analytique.\n",
    "1. Une fois fonctionnel, intégrer ce code dans le fichier ```Classifiers.py```\n",
    "\n",
    "**Note:** cet algorithme n'est plus itératif, il n'y a plus de ```learning_rate``` ni d'itération max ou d'historique..."
   ]
  },
  {
   "cell_type": "code",
   "execution_count": null,
   "metadata": {},
   "outputs": [],
   "source": [
    "# code de la classe ADALINE Analytique\n",
    "\n"
   ]
  },
  {
   "cell_type": "code",
   "execution_count": null,
   "metadata": {},
   "outputs": [],
   "source": [
    "# reTest sur des données jouets\n",
    "adaline2 = ClassifierADALINE2(2) \n",
    "\n",
    "# n'hésitez pas à jouer sur les paramètres\n",
    "# vous pouvez supprimer temporairement l'argument history s'il n'est pas implémenté dans votre version.\n",
    "# il faudra cependant l'ajouter avant de passer à la boite suivante\n",
    "\n",
    "adaline2.train(X, Y)\n",
    "\n",
    "plot_frontiere_V3(X,Y, adaline2.w, k_id, step=30, forme=1, fname=None)\n",
    "\n",
    "# Comparer le résultat avec celui obtenu avec adaline."
   ]
  },
  {
   "cell_type": "markdown",
   "metadata": {},
   "source": [
    "## Pour aller plus loins sur ADALINE [OPTIONNEL]\n",
    "\n",
    "L'algorithme est évidemment kernelisable et régularisable: vous pouvez ajouter des arguments avec des valeurs par défaut dans vos objets.\n",
    "\n",
    "**Note:** ces questions sont optionnelles, il faut d'abord traiter de la section suivante sur la validation croisée."
   ]
  },
  {
   "cell_type": "markdown",
   "metadata": {},
   "source": [
    "# Validation Croisée\n",
    "\n",
    "La procédure de la validation croisée est au centre de la plupart des applications de machine learning: il est temps pour nous de travailler sur une implémentation.\n",
    "\n",
    "L'idée est de concevoir la fonction suivante:\n",
    "```\n",
    "Xapp,Yapp,Xtest,Ytest = crossval(X, Y, n_iterations, iteration)\n",
    "```\n",
    "- ```X, Y``` sont les donnnées **mélangées**.\n",
    "- ```n_iterations``` le nombre d'ensembles de données de test disjoints total.\n",
    "- ```iteration``` l'itération concernée: on ne renvoit pas les mêmes données en fonction des itérations.\n",
    "\n",
    "Après séparation des indices en ```n_iterations``` groupes, isoler 1 groupe pour le test et les autres pour l'apprentissage.\n",
    "\n",
    "**Note** Pour mélanger les données, vous pourrez utiliser les commandes suivantes:\n",
    "```\n",
    "index = np.random.permutation(len(X)) # mélange des index\n",
    "Xm = X[index]\n",
    "Ym = Y[index]\n",
    "\n",
    "# check: malgré le mélange, les données doivent être les mêmes\n",
    "plt.figure()\n",
    "plt.scatter(Xm[Ym==1,0], Xm[Ym==1,1], c='b')\n",
    "plt.scatter(Xm[Ym==-1,0], Xm[Ym==-1,1], c='r')\n",
    "```\n",
    "**Note 2** Pour bien faire les choses (=dans une version 2), il faut séparer les ensembles par classe de données pour garantir qu'il n'y a pas de sous-ensembles deséquilibrés par rapport aux autres. \n"
   ]
  },
  {
   "cell_type": "code",
   "execution_count": null,
   "metadata": {},
   "outputs": [],
   "source": [
    "# code de la validation croisée\n",
    "\n",
    "def crossval(X, Y, n_iterations, iteration):\n",
    "    # A COMPLETER\n",
    "    return Xapp, Yapp, Xtest, Ytest\n",
    "\n"
   ]
  },
  {
   "cell_type": "markdown",
   "metadata": {},
   "source": [
    "## Sanity check sur la validation croisée"
   ]
  },
  {
   "cell_type": "code",
   "execution_count": null,
   "metadata": {},
   "outputs": [],
   "source": [
    "N = 24\n",
    "Xtoy = np.arange(N).reshape(N,1)\n",
    "Ytoy = np.array([-1]*(N//2) + [1]*(N//2))\n",
    "\n",
    "niter = 3\n",
    "for i in range(niter):\n",
    "    Xapp,Yapp,Xtest,Ytest = crossval_strat(Xtoy, Ytoy, niter, i)\n",
    "    print(\"========== ITERATION : \",i,\" ==========\")\n",
    "    print(Xapp.T,\"\\n\",Yapp,\"\\n\",Xtest.T,\"\\n\", Ytest)"
   ]
  },
  {
   "cell_type": "markdown",
   "metadata": {},
   "source": [
    "Check [version non stratifiée]:\n",
    "\n",
    "```\n",
    "========== ITERATION :  0  ==========\n",
    "[[ 8  9 10 11 12 13 14 15 16 17 18 19 20 21 22 23]] \n",
    " [-1 -1 -1 -1  1  1  1  1  1  1  1  1  1  1  1  1] \n",
    " [[0 1 2 3 4 5 6 7]] \n",
    " [-1 -1 -1 -1 -1 -1 -1 -1]\n",
    "========== ITERATION :  1  ==========\n",
    "[[ 0  1  2  3  4  5  6  7 16 17 18 19 20 21 22 23]] \n",
    " [-1 -1 -1 -1 -1 -1 -1 -1  1  1  1  1  1  1  1  1] \n",
    " [[ 8  9 10 11 12 13 14 15]] \n",
    " [-1 -1 -1 -1  1  1  1  1]\n",
    "========== ITERATION :  2  ==========\n",
    "[[ 0  1  2  3  4  5  6  7  8  9 10 11 12 13 14 15]] \n",
    " [-1 -1 -1 -1 -1 -1 -1 -1 -1 -1 -1 -1  1  1  1  1] \n",
    " [[16 17 18 19 20 21 22 23]] \n",
    " [1 1 1 1 1 1 1 1]\n",
    "```\n",
    " \n",
    " [Version stratifée par classe]:\n",
    " \n",
    "```\n",
    " ========== ITERATION :  0  ==========\n",
    "[[ 4  5  6  7  8  9 10 11 16 17 18 19 20 21 22 23]] \n",
    " [-1 -1 -1 -1 -1 -1 -1 -1  1  1  1  1  1  1  1  1] \n",
    " [[ 0  1  2  3 12 13 14 15]] \n",
    " [-1 -1 -1 -1  1  1  1  1]\n",
    "========== ITERATION :  1  ==========\n",
    "[[ 0  1  2  3  8  9 10 11 12 13 14 15 20 21 22 23]] \n",
    " [-1 -1 -1 -1 -1 -1 -1 -1  1  1  1  1  1  1  1  1] \n",
    " [[ 4  5  6  7 16 17 18 19]] \n",
    " [-1 -1 -1 -1  1  1  1  1]\n",
    "========== ITERATION :  2  ==========\n",
    "[[ 0  1  2  3  4  5  6  7 12 13 14 15 16 17 18 19]] \n",
    " [-1 -1 -1 -1 -1 -1 -1 -1  1  1  1  1  1  1  1  1] \n",
    " [[ 8  9 10 11 20 21 22 23]] \n",
    " [-1 -1 -1 -1  1  1  1  1]\n",
    "```\n"
   ]
  },
  {
   "cell_type": "markdown",
   "metadata": {},
   "source": [
    "## Tests de la procédure de validation croisée \n",
    "\n",
    "Sur des données réelles et sur des données jouets\n"
   ]
  },
  {
   "cell_type": "code",
   "execution_count": null,
   "metadata": {},
   "outputs": [],
   "source": [
    "np.random.seed(42)   # on prend 42 comme graine\n",
    "# test sur les données jouet X, Y supposées pré-existantes\n",
    "\n",
    "index = np.random.permutation(len(X)) # mélange des index\n",
    "Xm = X[index]\n",
    "Ym = Y[index]\n",
    "niter = 10\n",
    "perf = []\n",
    "\n",
    "for i in range(niter):\n",
    "    Xapp,Yapp,Xtest,Ytest = crossval(Xm, Ym, niter, i)\n",
    "    adal = ClassifierADALINE(2, 1e-2)\n",
    "    adal.train(Xapp, Yapp)\n",
    "    perf.append(adal.accuracy(Xtest, Ytest))\n",
    "    \n",
    "print(\"Perf \",perf)"
   ]
  },
  {
   "cell_type": "code",
   "execution_count": null,
   "metadata": {},
   "outputs": [],
   "source": [
    "# test sur les données USPS\n",
    "\n",
    "data = pkl.load(open('ressources/usps.pkl', 'rb'))\n",
    "Xu = np.array(data['X_train'], dtype=float) # conversion de type pour une meilleure compatibilité\n",
    "Yu = np.array(data['Y_train'], dtype=float)\n",
    "\n",
    "# Création d'un sous groupe de données\n",
    "c1 = 4\n",
    "c2 = 6\n",
    "X12 = Xu[(Yu==c1) | (Yu==c2)]\n",
    "Y12 = np.where(Yu[(Yu==c1) | (Yu==c2)]==1, 1, -1)\n",
    "\n",
    "\n",
    "# Performances en Training  et Test:\n"
   ]
  },
  {
   "cell_type": "markdown",
   "metadata": {},
   "source": [
    "# Retour sur le multi-classes\n",
    "\n",
    "On ne va pas définir une version multi-classe par classifieur binaire...\n",
    "Il est possible de définir un classifieur générique multi-classe à partir de classifieur binaire (design pattern composite) en respectant le schéma suivant:\n",
    "\n",
    "1. ```ClassifierMultiOAA``` prend un classifieur binaire en argument lors de la création. Il initialise une liste vide de classifieurs.\n",
    "\n",
    "1. Dans la méthode ```train```, penser à cloner le classifeur de référence nCl fois.\n",
    "Il faut utiliser la méthode ```deepcopy``` du module standard python ```copy```\n",
    "\n",
    "1. Dans un boucle for, redéfinir les étiquette $ytmp$ et apprendre des classifieurs binaires\n",
    "\n",
    "1. Dans ```score``` faire appel aux méthodes ```score``` des classifieurs binaires et stocker les résultats\n",
    "\n",
    "1. Dans ```predict``` renvoyer l'argmax des scores.<BR>\n",
    "**Note:** en faisant cette opération, on fait l'hypothèse que les étiquettes sont définies sur $[0,nCl]$. Pour lever cette hypothèse, il faudrait stocker les classes et convertir le résultat de argmax.\n",
    "\n",
    "1. La fonction ```accuracy``` de la classe mère doit être compatible avec les définitions précédentes... Par exemple:\n",
    "```\n",
    "def accuracy(self, desc_set, label_set):\n",
    "        yhat = np.array([self.predict(x) for x in desc_set])\n",
    "        return np.where(label_set == yhat, 1., 0.).mean()\n",
    "```\n",
    "\n"
   ]
  },
  {
   "cell_type": "code",
   "execution_count": null,
   "metadata": {},
   "outputs": [],
   "source": [
    "# Definition de la classe ClassifierMultiOAA\n",
    "\n",
    "# Vous pouvez avoir besoin d'utiliser la fonction deepcopy de la librairie standard copy:\n",
    "# (cf. la documentation)\n",
    "import copy \n"
   ]
  },
  {
   "cell_type": "code",
   "execution_count": null,
   "metadata": {},
   "outputs": [],
   "source": [
    "# opération assez couteuse sur toutes les données !\n",
    "# A faire dans une boite séparée\n",
    "\n",
    "index = np.random.permutation(len(Yu))\n",
    "Xm = Xu[index]\n",
    "Ym = Yu[index]\n"
   ]
  },
  {
   "cell_type": "code",
   "execution_count": null,
   "metadata": {},
   "outputs": [],
   "source": [
    "# validation croisée en multi-classes\n",
    "\n",
    "# (à compléter)"
   ]
  },
  {
   "cell_type": "code",
   "execution_count": null,
   "metadata": {},
   "outputs": [],
   "source": [
    "# Performances en Training  et Test\n"
   ]
  },
  {
   "cell_type": "code",
   "execution_count": null,
   "metadata": {},
   "outputs": [],
   "source": []
  },
  {
   "cell_type": "code",
   "execution_count": null,
   "metadata": {},
   "outputs": [],
   "source": []
  }
 ],
 "metadata": {
  "kernelspec": {
   "display_name": "Python 3",
   "language": "python",
   "name": "python3"
  },
  "language_info": {
   "codemirror_mode": {
    "name": "ipython",
    "version": 3
   },
   "file_extension": ".py",
   "mimetype": "text/x-python",
   "name": "python",
   "nbconvert_exporter": "python",
   "pygments_lexer": "ipython3",
   "version": "3.9.2"
  }
 },
 "nbformat": 4,
 "nbformat_minor": 1
}
