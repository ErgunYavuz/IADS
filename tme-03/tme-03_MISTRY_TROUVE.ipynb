{
 "cells": [
  {
   "cell_type": "markdown",
   "metadata": {},
   "source": [
    "#  TD-TME03 Perceptron"
   ]
  },
  {
   "cell_type": "markdown",
   "metadata": {},
   "source": [
    "IA & Data science (LU3IN0226) -- 2020-2021\n",
    "--------\n",
    "*&copy; Equipe pédagogique: Vincent Guigue, Christophe Marsala, Edoardo Sarti, Olivier Schwander.*\n"
   ]
  },
  {
   "cell_type": "markdown",
   "metadata": {},
   "source": [
    "<font size=\"+1\" color=\"RED\">**[Q]**</font> **Indiquer dans la boîte ci-dessous vos noms et prénoms :**"
   ]
  },
  {
   "cell_type": "markdown",
   "metadata": {},
   "source": [
    "*Double-cliquer ici et insérer les noms et prénoms de votre binôme*\n",
    "MISTRY Manish\n",
    "TROUVE Alex"
   ]
  },
  {
   "cell_type": "markdown",
   "metadata": {},
   "source": [
    "<font color=\"RED\" size=\"+1\">**[Q]**</font> **Renommer ce fichier ipython**\n",
    "\n",
    "Tout en haut de cette page, cliquer sur <tt>tme-03</tt> et rajouter à la suite de <tt>tme-03</tt> les noms des membres du binômes séparés par un tiret."
   ]
  },
  {
   "cell_type": "markdown",
   "metadata": {},
   "source": [
    "<font color=\"RED\" size=\"+1\">IMPORTANT: soumission de votre fichier final</font>\n",
    "\n",
    "**Nom à donner au fichier à poster** : *tme-03-Nom1_Nom2.ipynb* \n",
    "- *Nom1* et *Nom2* : noms des membres du binôme\n",
    "- ne pas compresser ou faire une archive: il faut rendre le fichier ipython tel quel, éventuellement, si vous avez d'autres fichiers vous les rendez séparément.\n",
    "\n",
    "**Echancier pour la soumission de votre compte-rendu:**\n",
    "- le compte-rendu est à remettre sur la page Moodle selon les directives données en séances.\n"
   ]
  },
  {
   "cell_type": "markdown",
   "metadata": {},
   "source": [
    "Les imports suivants seront généralement nécessaires:"
   ]
  },
  {
   "cell_type": "code",
   "execution_count": 1,
   "metadata": {},
   "outputs": [],
   "source": [
    "import numpy as np\n",
    "import pandas as pd\n",
    "from datetime import datetime as dt\n",
    "import matplotlib.pyplot as plt\n",
    "%matplotlib inline  "
   ]
  },
  {
   "cell_type": "markdown",
   "metadata": {},
   "source": [
    "## Retour sur le sujet du TME 2"
   ]
  },
  {
   "cell_type": "code",
   "execution_count": 2,
   "metadata": {},
   "outputs": [],
   "source": [
    "# ------------------------ REPRENDRE ICI LES FONCTIONS DU TME 2:\n",
    "# genere_dataset_uniform:\n",
    "def genere_dataset_uniform(p,n,inf,sup):\n",
    "    divison_pts=n//2\n",
    "    desc=np.random.uniform(inf,sup,(n,p))\n",
    "    lab=np.asarray([-1 for i in range (0, division_pts)] + [+1 for i in range (0,division_pts)])\n",
    "    return (desc,lab)\n",
    "\n",
    "# genere_dataset_gaussian:\n",
    "def genere_dataset_gaussian(positive_center, positive_sigma, negative_center, negative_sigma, nb_points):\n",
    "    pos=np.random.multivariate_normal(positive_center, positive_sigma, nb_points)\n",
    "    neg=np.random.multivariate_normal(negative_center, negative_sigma, nb_points)\n",
    "    res=np.vstack((neg,pos)),np.asarray([-1 for i in range(nb_points)] + [+1 for i in range(nb_points)])\n",
    "    return res"
   ]
  },
  {
   "cell_type": "code",
   "execution_count": 3,
   "metadata": {},
   "outputs": [
    {
     "name": "stdout",
     "output_type": "stream",
     "text": [
      "Taille du dataset généré : (40, 2) exemples\n"
     ]
    },
    {
     "data": {
      "text/plain": [
       "array([[ 0.23846658, -0.82863172],\n",
       "       [-0.61564828, -1.3011037 ],\n",
       "       [-1.97852199, -1.71984421],\n",
       "       [-0.96063877,  0.05712223],\n",
       "       [-0.15638171, -2.76304016]])"
      ]
     },
     "execution_count": 3,
     "metadata": {},
     "output_type": "execute_result"
    }
   ],
   "source": [
    "# Exemple d'utilisation:\n",
    "np.random.seed(42)   # on prend 42 comme graine\n",
    "\n",
    "d_desc_gauss, d_lab_gauss = genere_dataset_gaussian(np.array([1,1]),np.array([[1,0],[0,1]]),np.array([-0.5,-1]),np.array([[1,0],[0,1]]),20)\n",
    "\n",
    "print(\"Taille du dataset généré :\", np.shape(d_desc_gauss), \"exemples\")\n",
    "\n",
    "d_desc_gauss[0:5,:]"
   ]
  },
  {
   "cell_type": "markdown",
   "metadata": {},
   "source": [
    "### Couleurs des tracés"
   ]
  },
  {
   "cell_type": "code",
   "execution_count": 4,
   "metadata": {},
   "outputs": [],
   "source": [
    "# Remarque : le nom des couleur est standardisé, pour connaître des noms de couleur possible:\n",
    "import matplotlib as mpl\n",
    "\n",
    "# ---------------> Décommenter la ligne suivante :\n",
    "#mpl.colors.cnames\n",
    "\n",
    "# utiliser internet pour visualiser ces couleurs..."
   ]
  },
  {
   "cell_type": "code",
   "execution_count": 5,
   "metadata": {},
   "outputs": [
    {
     "data": {
      "text/plain": [
       "<matplotlib.collections.PathCollection at 0x7fed25e5d7f0>"
      ]
     },
     "execution_count": 5,
     "metadata": {},
     "output_type": "execute_result"
    },
    {
     "data": {
      "image/png": "[encoded data removed]",
      "text/plain": [
       "<Figure size 432x288 with 1 Axes>"
      ]
     },
     "metadata": {
      "needs_background": "light"
     },
     "output_type": "display_data"
    }
   ],
   "source": [
    "# Extraction des exemples de classe -1:\n",
    "data_negatifs = d_desc_gauss[d_lab_gauss == -1]\n",
    "# Extraction des exemples de classe +1:\n",
    "data_positifs = d_desc_gauss[d_lab_gauss == +1]\n",
    "\n",
    "# Affichage de l'ensemble des exemples :\n",
    "plt.scatter(data_negatifs[:,0],data_negatifs[:,1],marker='o', color='red') # 'o' rouge pour la classe -1\n",
    "plt.scatter(data_positifs[:,0],data_positifs[:,1],marker='x', color='blue') # 'x' bleu pour la classe +1"
   ]
  },
  {
   "cell_type": "code",
   "execution_count": 11,
   "metadata": {},
   "outputs": [],
   "source": [
    "# ------------------------ REPRENDRE LA FONCTION plot2DSet :\n",
    "# Modifier la fonction pour pouvoir utiliser la couleur 'red' pour la classe -1 et 'blue' pour la +1\n",
    "def plot2DSet(desc,label):\n",
    "    # Extraction des exemples de classe -1:\n",
    "    data_negatifs = desc[label == -1]\n",
    "    # Extraction des exemples de classe +1:\n",
    "    data_positifs = desc[label == +1]\n",
    "    plt.scatter(data_negatifs[:,0],data_negatifs[:,1],marker='o', color='red') # 'o' pour la classe -1\n",
    "    plt.scatter(data_positifs[:,0],data_positifs[:,1],marker='x', color='blue') # 'x' pour la classe +1\n"
   ]
  },
  {
   "cell_type": "code",
   "execution_count": 12,
   "metadata": {},
   "outputs": [
    {
     "data": {
      "image/png": "[encoded data removed]",
      "text/plain": [
       "<Figure size 432x288 with 1 Axes>"
      ]
     },
     "metadata": {
      "needs_background": "light"
     },
     "output_type": "display_data"
    }
   ],
   "source": [
    "# Affichage :\n",
    "plot2DSet(d_desc_gauss,d_lab_gauss)"
   ]
  },
  {
   "cell_type": "markdown",
   "metadata": {},
   "source": [
    "### Nouvelle version de la fonction plot_frontiere\n",
    "Cette nouvelle version gère un peu mieux les couleurs d'affichage"
   ]
  },
  {
   "cell_type": "code",
   "execution_count": 13,
   "metadata": {},
   "outputs": [],
   "source": [
    "def plot_frontiere(desc_set, label_set, classifier, step=30):\n",
    "    \"\"\" desc_set * label_set * Classifier * int -> NoneType\n",
    "        Remarque: le 4e argument est optionnel et donne la \"résolution\" du tracé\n",
    "        affiche la frontière de décision associée au classifieur\n",
    "    \"\"\"\n",
    "    mmax=desc_set.max(0)\n",
    "    mmin=desc_set.min(0)\n",
    "    x1grid,x2grid=np.meshgrid(np.linspace(mmin[0],mmax[0],step),np.linspace(mmin[1],mmax[1],step))\n",
    "    grid=np.hstack((x1grid.reshape(x1grid.size,1),x2grid.reshape(x2grid.size,1)))\n",
    "    \n",
    "    # calcul de la prediction pour chaque point de la grille\n",
    "    res=np.array([classifier.predict(grid[i,:]) for i in range(len(grid)) ])\n",
    "    res=res.reshape(x1grid.shape)\n",
    "    # tracer des frontieres\n",
    "    # colors[0] est la couleur des -1 et colors[1] est la couleur des +1\n",
    "    plt.contourf(x1grid,x2grid,res,colors=[\"darksalmon\",\"skyblue\"],levels=[-1000,0,1000])"
   ]
  },
  {
   "cell_type": "markdown",
   "metadata": {},
   "source": [
    "## Perceptron de Rosenblatt\n",
    "\n",
    "De la même façon que nous avons défini un classifieur aléatoire et un classifieur par k-ppv, nous allons maintenant définir le classifieur qui a été présenté dans le cours 3 : le perceptron de Rosenblatt.\n",
    "Il est fortement conseillé d'aller voir les transparents de ce cours 3 pour s'aider à implementer cet algorithme.\n",
    "\n",
    "\n",
    "**Apprentissage:**<BR>\n",
    "En termes d'entrées/sorties: l'apprentissage consiste à fournir une base de données étiquetées $X \\in \\mathbb R^{n\\times d},Y\\in \\{-1,1\\}^n$ et à récupérer un vecteur de paramètres optimisés $\\mathbf w\\in \\mathbb R^{d}$.\n",
    "\n",
    "En termes algorithmiques, l'apprentissage est itératif:\n",
    "1. Initialisation de $\\mathbf w$ soit à 0, soit aléatoirement. Attention, si l'initialisation est aléatoire, les valeurs doivent être très petites et également réparties entre valeurs positives et négatives pour ne pas biaiser l'algorithme.\n",
    "1. Optimisation stochastique\n",
    "    1. Tirage aléatoire d'un point $\\mathbf x_i$\n",
    "    1. Evaluation de l'erreur sur $\\mathbf x_i, y_i$ avec le vecteur $\\mathbf w$ courant\n",
    "        1. Si *Pas d'erreur*, pas de correction\n",
    "        1. Si *Erreur*, correction (petite) de la forme: \n",
    "        $$\\mathbf w \\leftarrow \\mathbf w + \\epsilon y_i \\mathbf x_i$$\n",
    "    1. Si convergence, sortir\n",
    "        1. Convergence = plus ou peu de changements sur $\\mathbf w$ pendant $n$ itérations. \n",
    "        1. Mettre un critère en nombre d'itérations pour ne pas se coincer dans une boucle infinie.\n",
    "\n",
    "**Inférence:**<BR>\n",
    "L'inférence est linaire: \n",
    "    $$\\hat y_i =  \\mathbf x_i \\cdot \\leftarrow w \\in \\mathbb R, \\qquad \\hat y_i^* =\\mbox{sign}(\\hat y_i) \\in \\{-1,1\\}$$\n",
    "   \n",
    "   Attention à ne pas confondre l'évaluation linéaire à valeur réelle et le signe qui permet de mettre notre estimation dans le même univers que les étiquettes d'origine."
   ]
  },
  {
   "cell_type": "markdown",
   "metadata": {},
   "source": [
    "<font color=\"RED\" size=\"+1\">**[Q]**</font> En héritant de la classe `Classifier` (qu'il faut donc récupérer/ré-écrire pour la mettre dans ce notebook), écrire la classe `ClassifierPerceptron` qui implémente l'algorithme du perceptron de Rosenblatt vu en cours. \n",
    "\n",
    "Lors de l'initialisation, dans la méthode `__init__`, un learning_rate (aussi noté <i>epsilon</i>) pour le perceptron doit être fourni. L'initialisation du perceptron est faite en initialisant aléatoirement les valeurs de ses poids $w_1, \\ldots, w_d$ dans $[-1,1]$.\n",
    "\n",
    "La fonction `train` d'un perceptron doit réaliser **une itération** sur l'ensemble des données d'apprentissage en prenant les exemples dans un ordre aléatoire choisi au moment de l'exécution de la fonction `train`. Pour chaque exemple d'apprentissage $x$, on détermine le score donné par le perceptron et avec ce score on corrige les valeurs des poids du perceptron. Cette correction dépend de $x$ et de l'écart entre le score et la vraie classe de $x$, elle est pondérée par le learning rate du perceptron. \n",
    "\n"
   ]
  },
  {
   "cell_type": "code",
   "execution_count": 14,
   "metadata": {},
   "outputs": [],
   "source": [
    "# ------------------------ A COMPLETER :\n",
    "\n",
    "# Recopier ici la classe Classifier (complète) du TME 2\n",
    "# ------------------------ A COMPLETER :\n",
    "class Classifier:\n",
    "    \"\"\" Classe pour représenter un classifieur\n",
    "        Attention: cette classe est une classe abstraite, elle ne peut pas être\n",
    "        instanciée.\n",
    "    \"\"\"\n",
    "    \n",
    "    def __init__(self, input_dimension):\n",
    "        \"\"\" Constructeur de Classifier\n",
    "            Argument:\n",
    "                - intput_dimension (int) : dimension de la description des exemples\n",
    "            Hypothèse : input_dimension > 0\n",
    "        \"\"\"\n",
    "        raise NotImplementedError(\"Please Implement this method\")\n",
    "        \n",
    "    def train(self, desc_set, label_set):\n",
    "        \"\"\" Permet d'entrainer le modele sur l'ensemble donné\n",
    "            desc_set: ndarray avec des descriptions\n",
    "            label_set: ndarray avec les labels correspondants\n",
    "            Hypothèse: desc_set et label_set ont le même nombre de lignes\n",
    "        \"\"\"        \n",
    "        raise NotImplementedError(\"Please Implement this method\")\n",
    "    \n",
    "    def score(self,x):\n",
    "        \"\"\" rend le score de prédiction sur x (valeur réelle)\n",
    "            x: une description\n",
    "        \"\"\"\n",
    "        raise NotImplementedError(\"Please Implement this method\")\n",
    "    \n",
    "    def predict(self, x):\n",
    "        \"\"\" rend la prediction sur x (soit -1 ou soit +1)\n",
    "            x: une description\n",
    "        \"\"\"\n",
    "        raise NotImplementedError(\"Please Implement this method\")\n",
    "\n",
    "    def accuracy(self, desc_set, label_set):\n",
    "        \"\"\" Permet de calculer la qualité du système sur un dataset donné\n",
    "            desc_set: ndarray avec des descriptions\n",
    "            label_set: ndarray avec les labels correspondants\n",
    "            Hypothèse: desc_set et label_set ont le même nombre de lignes\n",
    "        \"\"\"\n",
    "        # COMPLETER CETTE FONCTION ICI : \n",
    "        # ............\n",
    "        # ............\n",
    "        cpt=0\n",
    "        taille_data = label_set.size\n",
    "        for i in range(taille_data):\n",
    "            if(self.predict(desc_set[i])==label_set[i]):\n",
    "                cpt=cpt+1\n",
    "        return (cpt/taille_data) * 100\n",
    "        #raise NotImplementedError(\"Cette méthode doit être implémentée dans Classifier\")"
   ]
  },
  {
   "cell_type": "code",
   "execution_count": 15,
   "metadata": {},
   "outputs": [],
   "source": [
    "# ------------------------ A COMPLETER :\n",
    "\n",
    "class ClassifierPerceptron(Classifier):\n",
    "    \"\"\" Perceptron de Rosenblatt\n",
    "    \"\"\"\n",
    "    def __init__(self, input_dimension,learning_rate):\n",
    "        \"\"\" Constructeur de Classifier\n",
    "            Argument:\n",
    "                - input_dimension (int) : dimension de la description des exemples\n",
    "                - learning_rate : epsilon\n",
    "            Hypothèse : input_dimension > 0\n",
    "        \"\"\"\n",
    "        self.weights = np.random.normal(0, 0.5, input_dimension)\n",
    "        #self.weights = np.zeros(input_dimension)\n",
    "        self.learning_rate = learning_rate\n",
    "        #raise NotImplementedError(\"Please Implement this method\")\n",
    "        \n",
    "    def train(self, desc_set, label_set):\n",
    "        \"\"\" Permet d'entrainer le modele sur l'ensemble donné\n",
    "            réalise une itération sur l'ensemble des données prises aléatoirement\n",
    "            desc_set: ndarray avec des descriptions\n",
    "            label_set: ndarray avec les labels correspondants\n",
    "            Hypothèse: desc_set et label_set ont le même nombre de lignes\n",
    "        \"\"\"    \n",
    "        ordre = np.arange(len(label_set))\n",
    "        np.random.shuffle(ordre)\n",
    "        \n",
    "        for i in ordre:\n",
    "            if self.predict(desc_set[i]) * label_set[i] < 0:\n",
    "                self.weights += self.learning_rate * desc_set[i] * label_set[i] \n",
    "        #raise NotImplementedError(\"Please Implement this method\")\n",
    "    \n",
    "    def score(self,x):\n",
    "        \"\"\" rend le score de prédiction sur x (valeur réelle)\n",
    "            x: une description\n",
    "        \"\"\"\n",
    "        return np.dot(x, self.weights)\n",
    "        #raise NotImplementedError(\"Please Implement this method\")\n",
    "    \n",
    "    def predict(self, x):\n",
    "        \"\"\" rend la prediction sur x (soit -1 ou soit +1)\n",
    "            x: une description\n",
    "        \"\"\"\n",
    "        return 1 if self.score(x) > 0 else -1\n",
    "        #raise NotImplementedError(\"Please Implement this method\")\n",
    "\n",
    "    "
   ]
  },
  {
   "cell_type": "markdown",
   "metadata": {},
   "source": [
    "## Validation de l'algorithme\n",
    "\n",
    "<font color=\"RED\" size=\"+1\">**[Q]**</font>  Afin de vérifier le bon fonctionnement de l'algorithme, nous allons procéder à une série de test:\n",
    "\n",
    "1. Test sur les gaussiennes jouets de la semaine 2\n",
    "    1. Vérifier l'impact du réglage de l'initialisation (normalement, il n'y a pas trop d'impact sur un problème aussi simple)\n",
    "    1. Vérifier l'impact du réglage de epsilon (impact énorme: ca diverge très rapidement!!)\n",
    "    1. En jouant sur la génération des données, tester votre perceptron dans le cas facile (nuages des deux classes bien séparés) puis dans le cas plus difficile où les classes ne sont plus séparables linéairement.\n",
    "\n",
    "1. Test sur les données USPS (cf. TME 2)\n",
    "    1. Nous travaillerons uniquement dans le cas binaire. Prendre les 1 vs 2 (cas facile) puis les 3 vs 6 ou 9 (cas nettement plus dur)\n",
    "    \n",
    "1. Penser à faire le parallèle avec le temps d'inférence sur les k-ppv de la semaine précédente\n",
    "    \n",
    "**Note:** il faut évidemment multiplier les boites et ne pas tout faire au même endroit."
   ]
  },
  {
   "cell_type": "markdown",
   "metadata": {},
   "source": [
    "# 1.Test sur les gaussiennes \n",
    "    #B. Vérification de l'impact du réglage de l'epsilon"
   ]
  },
  {
   "cell_type": "code",
   "execution_count": 57,
   "metadata": {},
   "outputs": [
    {
     "name": "stdout",
     "output_type": "stream",
     "text": [
      "87.5\n"
     ]
    },
    {
     "data": {
      "image/png": "[encoded data removed]",
      "text/plain": [
       "<Figure size 432x288 with 1 Axes>"
      ]
     },
     "metadata": {
      "needs_background": "light"
     },
     "output_type": "display_data"
    }
   ],
   "source": [
    "learning_rate = 10e-1\n",
    "perceptron = ClassifierPerceptron(d_desc_gauss[0].shape[0], learning_rate)\n",
    "\n",
    "N = 50\n",
    "\n",
    "for i in range(N):\n",
    "    perceptron.train(d_desc_gauss, d_lab_gauss)\n",
    "    #print(perceptron.accuracy(d_desc_gauss, d_lab_gauss))\n",
    "    \n",
    "# Affichage de la frontière de séparation des classes\n",
    "print(perceptron.accuracy(d_desc_gauss, d_lab_gauss))\n",
    "plot_frontiere(d_desc_gauss,d_lab_gauss,perceptron)\n",
    "plot2DSet(d_desc_gauss,d_lab_gauss)"
   ]
  },
  {
   "cell_type": "code",
   "execution_count": 17,
   "metadata": {},
   "outputs": [
    {
     "name": "stdout",
     "output_type": "stream",
     "text": [
      "Taux de bonne classification sur le dataset:  91.0\n",
      "Taux de bonne classification sur le dataset:  92.0\n",
      "Taux de bonne classification sur le dataset:  92.0\n",
      "Taux de bonne classification sur le dataset:  93.0\n",
      "Taux de bonne classification sur le dataset:  95.0\n",
      "Taux de bonne classification sur le dataset:  95.0\n",
      "Taux de bonne classification sur le dataset:  91.0\n",
      "Taux de bonne classification sur le dataset:  92.0\n",
      "Taux de bonne classification sur le dataset:  95.0\n",
      "Taux de bonne classification sur le dataset:  92.0\n"
     ]
    },
    {
     "data": {
      "text/plain": [
       "Text(0.5, 1.0, 'epsilon 10^-2')"
      ]
     },
     "execution_count": 17,
     "metadata": {},
     "output_type": "execute_result"
    },
    {
     "data": {
      "image/png": "[encoded data removed]",
      "text/plain": [
       "<Figure size 432x288 with 1 Axes>"
      ]
     },
     "metadata": {
      "needs_background": "light"
     },
     "output_type": "display_data"
    }
   ],
   "source": [
    "epsilon=pow(10,-2)\n",
    "perceptron = ClassifierPerceptron(2,epsilon)\n",
    "\n",
    "data_desc, data_label = genere_dataset_gaussian(np.array([1,1]),np.array([[1,0],[0,1]]),np.array([-1,-1]),np.array([[1,0],[0,1]]),50)\n",
    "\n",
    "perceptron.train(data_desc, data_label)\n",
    "\n",
    "#Affichage du taux de bonne classification\n",
    "N = 10\n",
    "for i in range(N):\n",
    "    perceptron.train(data_desc, data_label)\n",
    "    print(\"Taux de bonne classification sur le dataset: \", perceptron.accuracy(data_desc, data_label))\n",
    "\n",
    "plot_frontiere(data_desc, data_label, perceptron)\n",
    "plot2DSet(data_desc, data_label)\n",
    "plt.title(\"epsilon 10^-2\")"
   ]
  },
  {
   "cell_type": "code",
   "execution_count": 22,
   "metadata": {},
   "outputs": [
    {
     "name": "stdout",
     "output_type": "stream",
     "text": [
      "Taux de bonne classification sur le dataset:  90.0\n"
     ]
    },
    {
     "data": {
      "text/plain": [
       "Text(0.5, 1.0, 'epsilon 10^-3')"
      ]
     },
     "execution_count": 22,
     "metadata": {},
     "output_type": "execute_result"
    },
    {
     "data": {
      "image/png": "[encoded data removed]",
      "text/plain": [
       "<Figure size 432x288 with 1 Axes>"
      ]
     },
     "metadata": {
      "needs_background": "light"
     },
     "output_type": "display_data"
    }
   ],
   "source": [
    "epsilon=pow(10,-3)\n",
    "perceptron = ClassifierPerceptron(2,epsilon)\n",
    "\n",
    "data_desc, data_label = genere_dataset_gaussian(np.array([1,1]),np.array([[1,0],[0,1]]),np.array([-1,-1]),np.array([[1,0],[0,1]]),50)\n",
    "\n",
    "perceptron.train(data_desc, data_label)\n",
    "\n",
    "#Affichage du taux de bonne classification\n",
    "print(\"Taux de bonne classification sur le dataset: \", perceptron.accuracy(data_desc, data_label))\n",
    "\n",
    "plot_frontiere(data_desc, data_label, perceptron)\n",
    "plot2DSet(data_desc, data_label)\n",
    "plt.title(\"epsilon 10^-3\")"
   ]
  },
  {
   "cell_type": "code",
   "execution_count": 58,
   "metadata": {},
   "outputs": [
    {
     "name": "stdout",
     "output_type": "stream",
     "text": [
      "Taux de bonne classification sur le dataset:  38.0\n"
     ]
    },
    {
     "data": {
      "text/plain": [
       "Text(0.5, 1.0, 'epsilon 10^-5')"
      ]
     },
     "execution_count": 58,
     "metadata": {},
     "output_type": "execute_result"
    },
    {
     "data": {
      "image/png": "[encoded data removed]",
      "text/plain": [
       "<Figure size 432x288 with 1 Axes>"
      ]
     },
     "metadata": {
      "needs_background": "light"
     },
     "output_type": "display_data"
    }
   ],
   "source": [
    "epsilon=pow(10,-5)\n",
    "perceptron = ClassifierPerceptron(2,epsilon)\n",
    "\n",
    "data_desc, data_label = genere_dataset_gaussian(np.array([1,1]),np.array([[1,0],[0,1]]),np.array([-1,-1]),np.array([[1,0],[0,1]]),50)\n",
    "\n",
    "perceptron.train(data_desc, data_label)\n",
    "\n",
    "#Affichage du taux de bonne classification\n",
    "print(\"Taux de bonne classification sur le dataset: \", perceptron.accuracy(data_desc, data_label))\n",
    "\n",
    "plot_frontiere(data_desc, data_label, perceptron)\n",
    "plot2DSet(data_desc, data_label)\n",
    "plt.title(\"epsilon 10^-5\")"
   ]
  },
  {
   "cell_type": "markdown",
   "metadata": {},
   "source": [
    "    # 1.C.Donnée linéaire"
   ]
  },
  {
   "cell_type": "code",
   "execution_count": 23,
   "metadata": {},
   "outputs": [
    {
     "name": "stdout",
     "output_type": "stream",
     "text": [
      "Taux de bonne classification sur le dataset:  88.0\n"
     ]
    },
    {
     "data": {
      "text/plain": [
       "Text(0.5, 1.0, 'epsilon 10^-3')"
      ]
     },
     "execution_count": 23,
     "metadata": {},
     "output_type": "execute_result"
    },
    {
     "data": {
      "image/png": "[encoded data removed]",
      "text/plain": [
       "<Figure size 432x288 with 1 Axes>"
      ]
     },
     "metadata": {
      "needs_background": "light"
     },
     "output_type": "display_data"
    }
   ],
   "source": [
    "epsilon=pow(10,-3)\n",
    "perceptron = ClassifierPerceptron(2,epsilon)\n",
    "\n",
    "data_desc, data_label = genere_dataset_gaussian(np.array([1,1]),np.array([[1,0],[0,1]]),np.array([-1,-1]),np.array([[1,0],[0,1]]),50)\n",
    "\n",
    "perceptron.train(data_desc, data_label)\n",
    "\n",
    "#Affichage du taux de bonne classification\n",
    "print(\"Taux de bonne classification sur le dataset: \", perceptron.accuracy(data_desc, data_label))\n",
    "\n",
    "plot_frontiere(data_desc, data_label, perceptron)\n",
    "plot2DSet(data_desc, data_label)\n",
    "plt.title(\"epsilon 10^-3\")"
   ]
  },
  {
   "cell_type": "code",
   "execution_count": 34,
   "metadata": {},
   "outputs": [
    {
     "name": "stdout",
     "output_type": "stream",
     "text": [
      "Taux de bonne classification sur le dataset:  98.0\n"
     ]
    },
    {
     "data": {
      "text/plain": [
       "Text(0.5, 1.0, 'epsilon 10^-3')"
      ]
     },
     "execution_count": 34,
     "metadata": {},
     "output_type": "execute_result"
    },
    {
     "data": {
      "image/png": "[encoded data removed]",
      "text/plain": [
       "<Figure size 432x288 with 1 Axes>"
      ]
     },
     "metadata": {
      "needs_background": "light"
     },
     "output_type": "display_data"
    }
   ],
   "source": [
    "epsilon=pow(10,-3)\n",
    "perceptron = ClassifierPerceptron(2,epsilon)\n",
    "\n",
    "data_desc, data_label = genere_dataset_gaussian(np.array([2,2]),np.array([[2,0],[0,2]]),np.array([-2,-2]),np.array([[2,0],[0,2]]),50)\n",
    "\n",
    "perceptron.train(data_desc, data_label)\n",
    "\n",
    "#Affichage du taux de bonne classification\n",
    "print(\"Taux de bonne classification sur le dataset: \", perceptron.accuracy(data_desc, data_label))\n",
    "\n",
    "plot_frontiere(data_desc, data_label, perceptron)\n",
    "plot2DSet(data_desc, data_label)\n",
    "plt.title(\"epsilon 10^-3\")"
   ]
  },
  {
   "cell_type": "markdown",
   "metadata": {},
   "source": [
    "# 2.Test sur les données USPS\n",
    "    A.Le cas binaire"
   ]
  },
  {
   "cell_type": "code",
   "execution_count": null,
   "metadata": {},
   "outputs": [],
   "source": []
  },
  {
   "cell_type": "markdown",
   "metadata": {},
   "source": [
    "## Sur-apprentissage\n",
    "\n",
    "Comme expliqué en cours, le sur-apprentissage consiste à apprendre une règle:\n",
    "1. Parfaite sur les données d'apprentissage\n",
    "1. Absurde ou inutile sur les données *en général*\n",
    "\n",
    "Votre but de data-scientist est d'éviter ce piège. Il existe de nombreuses stratégies pour faire face à ce défi majeur... Mais la première chose à faire est de savoir détecter le problème.\n",
    "\n",
    "<img src=\"ressources/overfitting.png\" > <BR>\n",
    "<center>FIG: la proposition de droite est parfaite sur les données observées en apprentissage... Mais absurde en général\n",
    "</center>\n",
    "\n",
    "<font color=\"RED\" size=\"+1\">**[Q]**</font>   Pour ce faire, nous allons toujours évaluer nos algorithmes sur des données *neutres*, c'est à dire sur des données n'ayant pas servi à l'apprentissage.\n",
    "\n",
    "1. Dans le cas de données jouets générées: tirer un second jeu de données avec les mêmes paramètres\n",
    "1. Dans le cas USPS (toujours en 2 classes), récupérer les données de test et évaluer votre modèle dessus\n",
    "\n",
    "Comparer les performances en apprentissage (c'est-à dire sur le dataset qui a servi à construire entraîner le modèle) et en test (c'est-à-dire sur un dataset différent du dataset d'apprentissage).\n"
   ]
  },
  {
   "cell_type": "code",
   "execution_count": 35,
   "metadata": {},
   "outputs": [],
   "source": [
    "from sklearn.model_selection import train_test_split\n",
    "def generate_train_test(total, percentage_test):\n",
    "    assert(isinstance(percentage_test, float) and percentage_test > 0 and percentage_test < 1)\n",
    "    data, labels = genere_dataset_gaussian(np.array([1,1]),np.array([[1,0],[0,1]]),np.array([-1,-1]),np.array([[1,0],[0,1]]), total)\n",
    "    \n",
    "    return train_test_split(data, labels, test_size=percentage_test, random_state=42)\n",
    "\n",
    "train_data, test_data, train_label, test_label = generate_train_test(100, 0.3)"
   ]
  },
  {
   "cell_type": "code",
   "execution_count": 36,
   "metadata": {
    "scrolled": true
   },
   "outputs": [
    {
     "name": "stdout",
     "output_type": "stream",
     "text": [
      "83.33333333333334\n",
      "83.33333333333334\n"
     ]
    },
    {
     "data": {
      "image/png": "[encoded data removed]",
      "text/plain": [
       "<Figure size 432x288 with 1 Axes>"
      ]
     },
     "metadata": {
      "needs_background": "light"
     },
     "output_type": "display_data"
    }
   ],
   "source": [
    "N = 100\n",
    "iterations = np.asarray([i for i in range(1, N+1)])\n",
    "perf_train = []\n",
    "perf_test = []\n",
    "best_perceptron = ClassifierPerceptron(d_desc_gauss[0].shape[0], learning_rate)\n",
    "\n",
    "for i in range(N):\n",
    "    test_acc = perceptron.accuracy(test_data, test_label)\n",
    "    if test_acc > best_perceptron.accuracy(test_data, test_label):\n",
    "        best_perceptron.weights = perceptron.weights\n",
    "        \n",
    "    perceptron.train(train_data, train_label)\n",
    "    perf_train.append(perceptron.accuracy(train_data, train_label))       \n",
    "    perf_test.append(perceptron.accuracy(test_data, test_label))\n",
    "\n",
    "plt.plot(iterations, perf_train, label='Performance training')\n",
    "plt.plot(iterations, perf_test, label='Performance test')\n",
    "plt.ylabel('Performane')\n",
    "plt.xlabel('Iteration')\n",
    "plt.title(\"courbe de performance en fonction de l'itération sur les ensembles de train et de test\")\n",
    "plt.legend()\n",
    "\n",
    "print(perceptron.accuracy(test_data, test_label))\n",
    "print(best_perceptron.accuracy(test_data, test_label))"
   ]
  },
  {
   "cell_type": "markdown",
   "metadata": {},
   "source": [
    "<font color=\"RED\" size=\"+1\">[Q]</font> Afin de tester des cas plus difficiles (c'est-à-dire non séparables linéairement), écrire la fonction `createXOR` qui permet de générer le jeu de données ci-dessous. Cette fonction prend 2 arguments, un nombre de points $n$ et un réel positif $\\sigma$ donnant la variance sur chaque dimension et permet de jouer sur la dispersion des nuages et donc sur la séparation des 4 nuages.\n",
    "\n",
    "Il s'agit de générer des points dans deux classes mais selon 4 gaussiennes.\n",
    "\n",
    "<img src=\"ressources/xor.png\" width=300px>\n",
    "\n"
   ]
  },
  {
   "cell_type": "code",
   "execution_count": 50,
   "metadata": {},
   "outputs": [],
   "source": [
    "def create_XOR(nb_points,var):\n",
    "    x=np.zeros(2)\n",
    "    a = genere_dataset_gaussian(np.array([0,1]), np.array([[var,0],[0,var]]),np.array([0,0]), np.array([[var,0],[0,var]]), nb_points)\n",
    "    b = genere_dataset_gaussian(np.array([1,0]), np.array([[var,0],[0,var]]),np.array([1,1]), np.array([[var,0],[0,var]]), nb_points)\n",
    "    \n",
    "    d1,l1=a\n",
    "    d2,l2=b\n",
    "    \n",
    "    x=np.vstack((d1,d2))\n",
    "    y=np.concatenate((l1,l2), axis=None)\n",
    "    l=[]\n",
    "    l.append(x)\n",
    "    l.append(y)\n",
    "    return l"
   ]
  },
  {
   "cell_type": "code",
   "execution_count": 51,
   "metadata": {},
   "outputs": [
    {
     "data": {
      "image/png": "[encoded data removed]",
      "text/plain": [
       "<Figure size 432x288 with 1 Axes>"
      ]
     },
     "metadata": {
      "needs_background": "light"
     },
     "output_type": "display_data"
    }
   ],
   "source": [
    "# une fois le fichier d'outils mis à jour, vous devez pouvoir faire:\n",
    "\n",
    "np.random.seed(42)   # on prend 42 comme graine\n",
    "\n",
    "# Génération d'un dataset avec 80 points:\n",
    "data_xor, label_xor = create_XOR(20,0.01)\n",
    "plot2DSet(data_xor, label_xor)"
   ]
  },
  {
   "cell_type": "markdown",
   "metadata": {},
   "source": [
    "<font color=\"RED\" size=\"+1\">[Q]</font> Appliquer l'algorithme du perceptron sur ces données et constater (avec quelques affichages de performances et tracés de frontières de décision) que ça ne marche pas!"
   ]
  },
  {
   "cell_type": "code",
   "execution_count": 54,
   "metadata": {},
   "outputs": [
    {
     "name": "stdout",
     "output_type": "stream",
     "text": [
      "Taux de bonne classification sur le dataset:  36.875\n"
     ]
    },
    {
     "data": {
      "image/png": "[encoded data removed]",
      "text/plain": [
       "<Figure size 432x288 with 1 Axes>"
      ]
     },
     "metadata": {
      "needs_background": "light"
     },
     "output_type": "display_data"
    }
   ],
   "source": [
    "# Pour avoir les mêmes valeurs aléatoires :\n",
    "np.random.seed(42)   # supprimer cette ligne une fois la mise au point terminée\n",
    "\n",
    "# ------------------------ A COMPLETER :\n",
    "data_xor, label_xor = create_XOR(80,0.01)\n",
    "plot2DSet(data_xor, label_xor)\n",
    "epsilon=pow(10,-3)\n",
    "perceptron = ClassifierPerceptron(2, epsilon)\n",
    "print(\"Taux de bonne classification sur le dataset: \", perceptron.accuracy(data_xor, label_xor))\n",
    "plot_frontiere(data_xor, label_xor, perceptron)\n",
    "plot2DSet(data_xor, label_xor)"
   ]
  },
  {
   "cell_type": "markdown",
   "metadata": {},
   "source": [
    "Kernel Trick\n",
    "--------------"
   ]
  },
  {
   "cell_type": "markdown",
   "metadata": {},
   "source": [
    "Les résultats précédents ne sont pas vraiment très bon, le perceptron n'arrive pas à séparer correctement les 2 classes... (expliquez pourquoi)\n",
    "\n",
    "L'astuce du noyau (\"kernel trick\") est un moyen pour améliorer ses performances.\n",
    "\n",
    "Un \"kernel\" est une \"fonction noyau\" (ou simplement \"noyau\") qui permet de représenter des données d'un espace donné dans un autre espace, souvent de dimension plus grande.\n",
    "\n",
    "Comme vu en cours, l'idée est toute simple:\n",
    "Soit une matrice 2D d'observations:\n",
    "$$X =\\left[\n",
    "    \\begin{array}{cc}\n",
    "    x_{11} & x_{12}\\\\\n",
    "    \\vdots & \\vdots \\\\\n",
    "    x_{N1} & x_{N2}\\\\\n",
    "    \\end{array}\n",
    "    \\right]\\in \\mathbb R^{N\\times 2}$$\n",
    "\n",
    "La fonction $f(\\mathbf x) = \\mathbf w \\cdot \\mathbf x$ correspond à une frontière linéaire dans l'espace 2D... Qui passe par $(0,0)$.\n",
    "\n",
    "Mais admettons que j'ajoute des colonnes dans $X$:\n",
    "$$X^* =\\left[\n",
    "    \\begin{array}{cccccc}\n",
    "    x_{11} & x_{12} & x_{11}^2 & x_{12}^2 & x_{11} x_{12} & 1 \\\\\n",
    "    \\vdots & \\ddots &&&&\\vdots\\\\\n",
    "    x_{N1} & x{N2} & x_{N1}^2 & x_{N2}^2 & x_{N1} x_{N2} & 1 \\\\\n",
    "    \\end{array}\n",
    "    \\right]\\in \\mathbb R^{N\\times 6}$$\n",
    "\n",
    "La fonction $f(\\mathbf x^*) = \\mathbf w \\cdot \\mathbf x^*$ correspond à une frontière linéaire dans l'espace 6D... Et une frontière non linéaire dans l'espace d'origine !\n",
    "\n",
    "\n",
    "\n",
    "Le noyau est la fonction de transformation $$K: \\mathbf x \\rightarrow \\mathbf x^*$$\n",
    "\n",
    "**Note** Il faudra être très attentif, on fait tous les calculs avec des $\\mathbf x^*$ mais on fait tous les affichages avec des $\\mathbf x$..."
   ]
  },
  {
   "cell_type": "code",
   "execution_count": 41,
   "metadata": {},
   "outputs": [],
   "source": [
    "class Kernel():\n",
    "    \"\"\" Classe pour représenter des fonctions noyau\n",
    "    \"\"\"\n",
    "    def __init__(self, dim_in, dim_out):\n",
    "        \"\"\" Constructeur de Kernel\n",
    "            Argument:\n",
    "                - dim_in : dimension de l'espace de départ (entrée du noyau)\n",
    "                - dim_out: dimension de l'espace de d'arrivée (sortie du noyau)\n",
    "        \"\"\"\n",
    "        self.input_dim = dim_in\n",
    "        self.output_dim = dim_out\n",
    "        \n",
    "    def get_input_dim(self):\n",
    "        \"\"\" rend la dimension de l'espace de départ\n",
    "        \"\"\"\n",
    "        return self.input_dim\n",
    "\n",
    "    def get_output_dim(self):\n",
    "        \"\"\" rend la dimension de l'espace d'arrivée\n",
    "        \"\"\"\n",
    "        return self.output_dim\n",
    "    \n",
    "    def transform(self, V):\n",
    "        \"\"\" ndarray -> ndarray\n",
    "            fonction pour transformer V dans le nouvel espace de représentation\n",
    "        \"\"\"        \n",
    "        raise NotImplementedError(\"Please Implement this method\")\n",
    "        "
   ]
  },
  {
   "cell_type": "markdown",
   "metadata": {},
   "source": [
    "L'intérêt de définir une classe mère `Kernel` qui servira à définir des noyaux et que l'on pourra maintenant définir des algorithmes génériques qui pourront prendre des noyaux quelconques en argument."
   ]
  },
  {
   "cell_type": "markdown",
   "metadata": {},
   "source": [
    "### Un premier noyau\n",
    "\n",
    "Le premier noyau, très simple, que l'on définit permet de projeter (manuellement) des données 2D dans un espace de plus grande dimension. \n",
    "\n",
    "Voici un exemple de projection qui transforme le vecteur $(x_1,x_2)$ en vecteur $(x_1,x_2,1)$"
   ]
  },
  {
   "cell_type": "code",
   "execution_count": 42,
   "metadata": {},
   "outputs": [],
   "source": [
    "class KernelBias(Kernel):\n",
    "    \"\"\" Classe pour un noyau simple 2D -> 3D\n",
    "    \"\"\"\n",
    "    def transform(self, V):\n",
    "        \"\"\" ndarray de dim 2 -> ndarray de dim 3            \n",
    "            rajoute une 3e dimension au vecteur donné\n",
    "        \"\"\"\n",
    "        V_proj = np.append(V,np.ones((len(V),1)),axis=1)\n",
    "        return V_proj"
   ]
  },
  {
   "cell_type": "code",
   "execution_count": 43,
   "metadata": {},
   "outputs": [
    {
     "name": "stdout",
     "output_type": "stream",
     "text": [
      "data_xor:\n",
      " [[-0.09746817  0.07870846]\n",
      " [ 0.11585956 -0.08206823]\n",
      " [ 0.09633761  0.04127809]\n",
      " [ 0.08220602  0.1896793 ]\n",
      " [-0.02453881 -0.07537362]]\n",
      "\n",
      "data_xor_transf:\n",
      " [[-0.09746817  0.07870846  1.        ]\n",
      " [ 0.11585956 -0.08206823  1.        ]\n",
      " [ 0.09633761  0.04127809  1.        ]\n",
      " [ 0.08220602  0.1896793   1.        ]\n",
      " [-0.02453881 -0.07537362  1.        ]]\n"
     ]
    }
   ],
   "source": [
    "# Exemple d'utilisation : \n",
    "kb = KernelBias(2,3)\n",
    "\n",
    "data_xor_transf= kb.transform(data_xor)\n",
    "\n",
    "print(\"data_xor:\\n\", data_xor[0:5,:])\n",
    "\n",
    "print(\"\\ndata_xor_transf:\\n\", data_xor_transf[0:5,:])"
   ]
  },
  {
   "cell_type": "markdown",
   "metadata": {},
   "source": [
    "### Un noyau un peu plus compliqué"
   ]
  },
  {
   "cell_type": "markdown",
   "metadata": {},
   "source": [
    "<font color=\"RED\" size=\"+1\">**[Q]**</font> Implémenter le kernel : $(x_1,x_2) \\rightarrow (1,x_1,x_2,x_1*x_1,x_2*x_2,x_1*x_2)$. "
   ]
  },
  {
   "cell_type": "code",
   "execution_count": 44,
   "metadata": {},
   "outputs": [],
   "source": [
    "class KernelPoly(Kernel):\n",
    "    def transform(self,V):\n",
    "        \"\"\" ndarray de dim 2 -> ndarray de dim 6            \n",
    "            ...\n",
    "        \"\"\"\n",
    "        ##TODO\n",
    "        #raise NotImplementedError(\"Please Implement this method\")\n",
    "        V_prog=np.asarray(([1,V[0],V[1],V[0]*V[0], V[1]*V[1], V[0]*V[1] ]))\n",
    "        return V_prog\n"
   ]
  },
  {
   "cell_type": "code",
   "execution_count": 45,
   "metadata": {},
   "outputs": [
    {
     "data": {
      "text/plain": [
       "array([ 1.        , -0.09746817,  0.07870846,  0.00950004,  0.00619502,\n",
       "       -0.00767157])"
      ]
     },
     "execution_count": 45,
     "metadata": {},
     "output_type": "execute_result"
    }
   ],
   "source": [
    "# Exemple d'utilisation : \n",
    "kp = KernelPoly(2,6)\n",
    "kp.transform(data_xor[0,:])"
   ]
  },
  {
   "cell_type": "markdown",
   "metadata": {},
   "source": [
    "<font color=\"RED\" size=\"+1\">**[Q]**</font> Implémenter la classe `ClassifierPerceptronKernel` qui prend un kernel en paramètre, et calcule le perceptron sur la version \"kernélisée\" des données. Tester ce perceptron sur le dataset 1 (2 gaussiennes) et le dataset XOR."
   ]
  },
  {
   "cell_type": "code",
   "execution_count": 46,
   "metadata": {},
   "outputs": [],
   "source": [
    "# ------------------------ A COMPLETER :\n",
    "class ClassifierPerceptronKernel(Classifier):\n",
    "    def __init__(self, input_dimension, learning_rate, noyau):\n",
    "        \"\"\" Constructeur de Classifier\n",
    "            Argument:\n",
    "                - input_dimension (int) : dimension de la description des exemples (espace originel)\n",
    "                - learning_rate : \n",
    "                - noyau : Kernel à utiliser\n",
    "            Hypothèse : input_dimension > 0\n",
    "        \"\"\"\n",
    "        #raise NotImplementedError(\"Please Implement this method\")\n",
    "        self.epsilon=learning_rate\n",
    "        self.phi=noyau\n",
    "        self.w=np.zeros(input_dimension)\n",
    "        \n",
    "        \n",
    "    def score(self,x):\n",
    "        \"\"\" rend le score de prédiction sur x (valeur réelle)\n",
    "            x: une description\n",
    "        \"\"\"\n",
    "        #raise NotImplementedError(\"Please Implement this method\")\n",
    "        x1=self.phi.transform(x)\n",
    "        return np.dot(x1,self.w)\n",
    "    \n",
    "    def predict(self, x):\n",
    "        \"\"\" rend la prediction sur x (soit -1 ou soit +1)\n",
    "            x: une description\n",
    "        \"\"\"\n",
    "        #raise NotImplementedError(\"Please Implement this method\")\n",
    "        res=self.score(x)\n",
    "        if res<0:\n",
    "            return -1\n",
    "        else:\n",
    "            return +1\n",
    "\n",
    "    def train(self, desc_set, label_set):\n",
    "        \"\"\" Permet d'entrainer le modele sur l'ensemble donné\n",
    "            desc_set: ndarray avec des descriptions\n",
    "            label_set: ndarray avec les labels correspondants\n",
    "            Hypothèse: desc_set et label_set ont le même nombre de lignes\n",
    "        \"\"\"        \n",
    "        #raise NotImplementedError(\"Please Implement this method\")\n",
    "        ordre=np.arange(label_set.size)\n",
    "        np.random.shuffle(ordre)\n",
    "        for i in ordre:\n",
    "            if label_set[i]*self.predict(desc_set[i,:])<0:\n",
    "                self.w += self.epsilon*self.phi.transform(desc_set[i,:])*label_set[i]\n",
    "                self.w /= np.linalg.norm(self.w)"
   ]
  },
  {
   "cell_type": "markdown",
   "metadata": {},
   "source": [
    "<font color=\"RED\" size=\"+1\">**[Q]**</font> Entraîner un perceptron kernelisé utilisant un `KernelPoly` sur un dataset correspondant au XOR (cf. sujet du TME 2). Que constatez-vous ? Proposez une explication."
   ]
  },
  {
   "cell_type": "code",
   "execution_count": 23,
   "metadata": {},
   "outputs": [],
   "source": [
    "\n",
    "##TESTER SUR XOR ET DESSINER LA FRONTIèRE DE DECISION\n",
    "\n"
   ]
  },
  {
   "cell_type": "code",
   "execution_count": 47,
   "metadata": {},
   "outputs": [
    {
     "ename": "IndexError",
     "evalue": "too many indices for array: array is 1-dimensional, but 2 were indexed",
     "output_type": "error",
     "traceback": [
      "\u001b[0;31m---------------------------------------------------------------------------\u001b[0m",
      "\u001b[0;31mIndexError\u001b[0m                                Traceback (most recent call last)",
      "\u001b[0;32m<ipython-input-47-b038143888cd>\u001b[0m in \u001b[0;36m<module>\u001b[0;34m\u001b[0m\n\u001b[1;32m      9\u001b[0m \u001b[0macc\u001b[0m\u001b[0;34m=\u001b[0m\u001b[0mnp\u001b[0m\u001b[0;34m.\u001b[0m\u001b[0mzeros\u001b[0m\u001b[0;34m(\u001b[0m\u001b[0mN\u001b[0m\u001b[0;34m)\u001b[0m\u001b[0;34m\u001b[0m\u001b[0;34m\u001b[0m\u001b[0m\n\u001b[1;32m     10\u001b[0m \u001b[0;32mfor\u001b[0m \u001b[0mi\u001b[0m \u001b[0;32min\u001b[0m \u001b[0mrange\u001b[0m\u001b[0;34m(\u001b[0m\u001b[0mN\u001b[0m\u001b[0;34m)\u001b[0m\u001b[0;34m:\u001b[0m\u001b[0;34m\u001b[0m\u001b[0;34m\u001b[0m\u001b[0m\n\u001b[0;32m---> 11\u001b[0;31m     \u001b[0mperceptronKernel\u001b[0m\u001b[0;34m.\u001b[0m\u001b[0mtrain\u001b[0m\u001b[0;34m(\u001b[0m\u001b[0mdata_xor\u001b[0m\u001b[0;34m[\u001b[0m\u001b[0;36m0\u001b[0m\u001b[0;34m]\u001b[0m\u001b[0;34m,\u001b[0m \u001b[0mdata_xor\u001b[0m\u001b[0;34m[\u001b[0m\u001b[0;36m1\u001b[0m\u001b[0;34m]\u001b[0m\u001b[0;34m)\u001b[0m\u001b[0;34m\u001b[0m\u001b[0;34m\u001b[0m\u001b[0m\n\u001b[0m\u001b[1;32m     12\u001b[0m     \u001b[0macc\u001b[0m\u001b[0;34m[\u001b[0m\u001b[0mi\u001b[0m\u001b[0;34m]\u001b[0m\u001b[0;34m=\u001b[0m\u001b[0mperceptronKernel\u001b[0m\u001b[0;34m.\u001b[0m\u001b[0maccuracy\u001b[0m\u001b[0;34m(\u001b[0m\u001b[0mdata_xor\u001b[0m\u001b[0;34m[\u001b[0m\u001b[0;36m0\u001b[0m\u001b[0;34m]\u001b[0m\u001b[0;34m,\u001b[0m\u001b[0mdata_xor\u001b[0m\u001b[0;34m[\u001b[0m\u001b[0;36m1\u001b[0m\u001b[0;34m]\u001b[0m\u001b[0;34m)\u001b[0m\u001b[0;34m\u001b[0m\u001b[0;34m\u001b[0m\u001b[0m\n\u001b[1;32m     13\u001b[0m \u001b[0;34m\u001b[0m\u001b[0m\n",
      "\u001b[0;32m<ipython-input-46-81c087f284a0>\u001b[0m in \u001b[0;36mtrain\u001b[0;34m(self, desc_set, label_set)\u001b[0m\n\u001b[1;32m     44\u001b[0m         \u001b[0mnp\u001b[0m\u001b[0;34m.\u001b[0m\u001b[0mrandom\u001b[0m\u001b[0;34m.\u001b[0m\u001b[0mshuffle\u001b[0m\u001b[0;34m(\u001b[0m\u001b[0mordre\u001b[0m\u001b[0;34m)\u001b[0m\u001b[0;34m\u001b[0m\u001b[0;34m\u001b[0m\u001b[0m\n\u001b[1;32m     45\u001b[0m         \u001b[0;32mfor\u001b[0m \u001b[0mi\u001b[0m \u001b[0;32min\u001b[0m \u001b[0mordre\u001b[0m\u001b[0;34m:\u001b[0m\u001b[0;34m\u001b[0m\u001b[0;34m\u001b[0m\u001b[0m\n\u001b[0;32m---> 46\u001b[0;31m             \u001b[0;32mif\u001b[0m \u001b[0mlabel_set\u001b[0m\u001b[0;34m[\u001b[0m\u001b[0mi\u001b[0m\u001b[0;34m]\u001b[0m\u001b[0;34m*\u001b[0m\u001b[0mself\u001b[0m\u001b[0;34m.\u001b[0m\u001b[0mpredict\u001b[0m\u001b[0;34m(\u001b[0m\u001b[0mdesc_set\u001b[0m\u001b[0;34m[\u001b[0m\u001b[0mi\u001b[0m\u001b[0;34m,\u001b[0m\u001b[0;34m:\u001b[0m\u001b[0;34m]\u001b[0m\u001b[0;34m)\u001b[0m\u001b[0;34m<\u001b[0m\u001b[0;36m0\u001b[0m\u001b[0;34m:\u001b[0m\u001b[0;34m\u001b[0m\u001b[0;34m\u001b[0m\u001b[0m\n\u001b[0m\u001b[1;32m     47\u001b[0m                 \u001b[0mself\u001b[0m\u001b[0;34m.\u001b[0m\u001b[0mw\u001b[0m \u001b[0;34m+=\u001b[0m \u001b[0mself\u001b[0m\u001b[0;34m.\u001b[0m\u001b[0mepsilon\u001b[0m\u001b[0;34m*\u001b[0m\u001b[0mself\u001b[0m\u001b[0;34m.\u001b[0m\u001b[0mphi\u001b[0m\u001b[0;34m.\u001b[0m\u001b[0mtransform\u001b[0m\u001b[0;34m(\u001b[0m\u001b[0mdesc_set\u001b[0m\u001b[0;34m[\u001b[0m\u001b[0mi\u001b[0m\u001b[0;34m,\u001b[0m\u001b[0;34m:\u001b[0m\u001b[0;34m]\u001b[0m\u001b[0;34m)\u001b[0m\u001b[0;34m*\u001b[0m\u001b[0mlabel_set\u001b[0m\u001b[0;34m[\u001b[0m\u001b[0mi\u001b[0m\u001b[0;34m]\u001b[0m\u001b[0;34m\u001b[0m\u001b[0;34m\u001b[0m\u001b[0m\n\u001b[1;32m     48\u001b[0m                 \u001b[0mself\u001b[0m\u001b[0;34m.\u001b[0m\u001b[0mw\u001b[0m \u001b[0;34m/=\u001b[0m \u001b[0mnp\u001b[0m\u001b[0;34m.\u001b[0m\u001b[0mlinalg\u001b[0m\u001b[0;34m.\u001b[0m\u001b[0mnorm\u001b[0m\u001b[0;34m(\u001b[0m\u001b[0mself\u001b[0m\u001b[0;34m.\u001b[0m\u001b[0mw\u001b[0m\u001b[0;34m)\u001b[0m\u001b[0;34m\u001b[0m\u001b[0;34m\u001b[0m\u001b[0m\n",
      "\u001b[0;31mIndexError\u001b[0m: too many indices for array: array is 1-dimensional, but 2 were indexed"
     ]
    }
   ],
   "source": [
    "# Pour avoir les mêmes valeurs aléatoires :\n",
    "np.random.seed(42)   # supprimer cette ligne une fois la mise au point terminée\n",
    "\n",
    "# ------------------------ A COMPLETER :\n",
    "N=100\n",
    "epsilon=10^-1\n",
    "\n",
    "perceptronKernel=ClassifierPerceptronKernel(3,epsilon,kp)\n",
    "acc=np.zeros(N)\n",
    "for i in range(N):\n",
    "    perceptronKernel.train(data_xor[0], data_xor[1])\n",
    "    acc[i]=perceptronKernel.accuracy(data_xor[0],data_xor[1])\n",
    "\n",
    "ut.plot_frontiere(data_xor[0],data_xor[1],perceptronKernel)\n",
    "ut.plot2DSet(data_xor[0],data_xor[1])\n",
    "fig,ax=plt.subplot(figsize=(10,10))\n",
    "ax.grid(True)\n",
    "ax.set_xlabel(\"N\")\n",
    "ax.set_ylabel(\"Accuracy\")\n",
    "ax.plot(cpt,lable='Aprenstissage')\n",
    "\n",
    "ax.legend(loc=\"upper right\")\n",
    "ax.set_title(\"Accuracy par rapport au nombre de N de tours d'apprentissage\")\n"
   ]
  },
  {
   "cell_type": "code",
   "execution_count": 24,
   "metadata": {},
   "outputs": [
    {
     "data": {
      "image/png": "[encoded data removed]",
      "text/plain": [
       "<Figure size 432x288 with 1 Axes>"
      ]
     },
     "metadata": {
      "needs_background": "light"
     },
     "output_type": "display_data"
    },
    {
     "name": "stdout",
     "output_type": "stream",
     "text": [
      "Accuracy finale :  0.7375\n"
     ]
    },
    {
     "data": {
      "image/png": "[encoded data removed]",
      "text/plain": [
       "<Figure size 432x288 with 1 Axes>"
      ]
     },
     "metadata": {
      "needs_background": "light"
     },
     "output_type": "display_data"
    }
   ],
   "source": [
    "# Pour avoir les mêmes valeurs aléatoires :\n",
    "np.random.seed(42)   # supprimer cette ligne une fois la mise au point terminée\n",
    "\n",
    "# ------------------------ A COMPLETER :\n",
    "\n",
    "\n"
   ]
  },
  {
   "cell_type": "markdown",
   "metadata": {},
   "source": [
    "## Version multi-classes\n",
    "\n",
    "Le perceptron est un algorithme fondamentalement bi-classes: il est même lié à la manière dont sont encodées les étiquettes $\\{+1,-1\\}$. La plupart des problèmes réels sont pourtant multi-classes (e.g. USPS).\n",
    "Si cet algorithme a pu rester aussi classique, c'est qu'il existe une extension multi-classes simple et efficace: le *un-contre-tous*\n",
    "\n",
    "<img src=\"ressources/multi2.png\">\n",
    "\n",
    "Il faut apprendre autant de classifieurs que de classes. \n",
    "Dans l'exemple ci-dessus, cela donne:\n",
    "\n",
    "1. Traitement de la classe 0\n",
    "    1. redéfinition de:\n",
    "    $$Y_{tmp} = \\left\\{\n",
    "\\begin{array}{ll}\n",
    "1 & \\mbox{ si } Y == 0\\\\\n",
    "-1 & \\mbox{ si } Y == 1 || Y == 1\\\\\n",
    "\\end{array}\\right.\n",
    "$$\n",
    "    1. apprentissage de $f_0$ sur $X,Y_{tmp}$\n",
    "1. Traitement de la classe 1\n",
    "    1. redéfinition de:\n",
    "    $$Y_{tmp} = \\left\\{\n",
    "\\begin{array}{ll}\n",
    "1 & \\mbox{ si } Y == 1\\\\\n",
    "-1 & \\mbox{ si } Y == 0 || Y == 2\\\\\n",
    "\\end{array}\\right.\n",
    "$$\n",
    "    1. apprentissage de $f_1$ sur $X,Y_{tmp}$\n",
    "1. etc...\n",
    "\n",
    "\n",
    "En inférence, lorsqu'un nouveau point $\\mathbf x$ est présenté il faut:\n",
    "1. calculer $score = [f_0(\\mathbf x),  f_1(\\mathbf x), \\ldots f_C(\\mathbf x)]$\n",
    "1. prédire $\\mbox{argmin}_c (score)$"
   ]
  },
  {
   "cell_type": "markdown",
   "metadata": {},
   "source": [
    "<font color=\"RED\" size=\"+1\">**[Q]**</font> Construire une classe `Perceptron_MC` pour faire de la prédiction multi-classes et tester le code sur les données USPS."
   ]
  },
  {
   "cell_type": "code",
   "execution_count": null,
   "metadata": {},
   "outputs": [],
   "source": []
  },
  {
   "cell_type": "markdown",
   "metadata": {},
   "source": [
    "## Mise en oeuvre sur des données réelles \n",
    "-------\n",
    "A partir de datasets trouvés sur le web, réaliser un ensemble d'expérimentations permettant de comparer les 3 classifiers (knn, perceptron de Rosenblatt et version kernélisée) que vous avez implémentés.\n",
    "\n",
    "Par exemple, vous pouvez utiliser les datasets suivants:\n",
    "- https://archive.ics.uci.edu/ml/datasets/Breast+Cancer+Coimbra\n",
    "- https://www.kaggle.com/uciml/indian-liver-patient-records\n",
    "- voir sur les données ouvertes de Paris : https://opendata.paris.fr/explore/?sort=modified\n",
    "\n",
    "Afin d'utiliser de tels jeux de données, il sera certainement nécessaire que vous réalisiez un prétraitement afin de pouvoir utiliser vos implémentations."
   ]
  },
  {
   "cell_type": "code",
   "execution_count": null,
   "metadata": {},
   "outputs": [],
   "source": []
  }
 ],
 "metadata": {
  "kernelspec": {
   "display_name": "Python 3",
   "language": "python",
   "name": "python3"
  },
  "language_info": {
   "codemirror_mode": {
    "name": "ipython",
    "version": 3
   },
   "file_extension": ".py",
   "mimetype": "text/x-python",
   "name": "python",
   "nbconvert_exporter": "python",
   "pygments_lexer": "ipython3",
   "version": "3.9.2"
  }
 },
 "nbformat": 4,
 "nbformat_minor": 1
}
